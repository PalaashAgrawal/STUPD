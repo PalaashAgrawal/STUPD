{
 "cells": [
  {
   "cell_type": "code",
   "execution_count": 1,
   "id": "405fcbe7",
   "metadata": {},
   "outputs": [],
   "source": [
    "import torch\n",
    "from torch.utils.data import Dataset\n",
    "from torch import nn\n",
    "import torch.nn.functional as F\n",
    "\n",
    "from fastai.distributed import *\n",
    "from fastai.vision.all import *\n",
    "\n",
    "from pathlib import Path\n",
    "from functools import partial\n",
    "import json\n",
    "import pandas as pd\n",
    "import matplotlib.pyplot as plt\n",
    "import math"
   ]
  },
  {
   "cell_type": "code",
   "execution_count": 2,
   "id": "22d2c68f",
   "metadata": {},
   "outputs": [],
   "source": [
    "device = torch.device('cuda:0')\n",
    "core_pth = Path('/home/agrawalp2/prepositions'); assert core_pth.exists()\n",
    "stupd_pth = Path('/mnt/dataset/agrawalp2/stupd_dataset'); assert stupd_pth.exists()"
   ]
  },
  {
   "cell_type": "markdown",
   "id": "36e9d312",
   "metadata": {},
   "source": [
    "# Data"
   ]
  },
  {
   "cell_type": "code",
   "execution_count": 3,
   "id": "d39b248b",
   "metadata": {},
   "outputs": [],
   "source": [
    "from gensim.models import KeyedVectors\n",
    "import numpy as np\n",
    "from autocorrect import Speller\n",
    "\n",
    "encoder_path = core_pth/Path('real_world_data/spatialsense/baselines/GoogleNews-vectors-negative300.bin.gz')\n",
    "assert encoder_path.exists()\n",
    "word2vec = KeyedVectors.load_word2vec_format(encoder_path, binary=True, unicode_errors=\"ignore\")\n",
    "\n",
    "spell = Speller()\n",
    "def phrase2vec(phrase, max_phrase_len, word_embedding_dim):\n",
    "    vec = np.zeros((max_phrase_len, word_embedding_dim,), dtype=np.float32)\n",
    "    for i, word in enumerate(phrase.split()[:max_phrase_len]):\n",
    "        if word in word2vec: vec[i] = word2vec[word]\n",
    "        elif spell(word) in word2vec: vec[i] = word2vec[spell(word)]\n",
    "        else: pass\n",
    "    return vec"
   ]
  },
  {
   "cell_type": "code",
   "execution_count": 4,
   "id": "1aeee2ae",
   "metadata": {},
   "outputs": [],
   "source": [
    "# def map_spatialsenses_to_stupd(o, mapping_dict = spatialsenses_to_stupd):\n",
    "#     return spatialsenses_to_stupd[o]\n",
    "\n",
    "def is_static(x):\n",
    "    static_preps = ['above', 'against_leaning', 'all_over', 'along_position', 'among', 'around_static', \n",
    "                   'behind', 'below', 'beside', 'between', 'in_front_of', 'inside', 'on', 'outside']\n",
    "    \n",
    "    dynamic_preps = ['against', 'along', 'around', 'by', 'down', 'from', 'into', 'into_crash', 'off', 'onto', 'out_of', 'over', 'through', 'towards', 'up', 'with']\n",
    "    \n",
    "    if x in static_preps: return True\n",
    "    elif x in dynamic_preps: return False\n",
    "    else: raise Exception(\"invalid relation input\")\n",
    "\n",
    "def noop(x): return x"
   ]
  },
  {
   "cell_type": "code",
   "execution_count": 5,
   "id": "e38e9fb3",
   "metadata": {},
   "outputs": [],
   "source": [
    "class stupd(Dataset):\n",
    "    def __init__(self,\n",
    "                 annotations_path = stupd_pth/'annotations', \n",
    "                 x_tfms: list = None,\n",
    "                 y_tfms: list = None):\n",
    "        \n",
    "        super().__init__()\n",
    "        self.subjects = [] #x1\n",
    "        self.objects = [] #x2\n",
    "        self.predicates = [] #y\n",
    "        \n",
    "        self.classes = set()\n",
    "\n",
    "        for annotations in annotations_path.iterdir():\n",
    "            if annotations.suffix!=\".csv\": continue\n",
    "            \n",
    "            df = self._process_df(pd.read_csv(annotations))\n",
    "            \n",
    "            \n",
    "            for i,row in df.iterrows():\n",
    "                \n",
    "                self.subjects.append(row['subject_category'] + ' ' + row['subject_supercategory'])\n",
    "                self.objects.append(row['object_category'] + ' ' + row['object_supercategory'])\n",
    "                self.predicates.append(annotations.stem)\n",
    "                self.classes.add(annotations.stem)\n",
    "                \n",
    "                \n",
    "\n",
    "        \n",
    "        self.class2idx = {cat:i for i,cat in enumerate(self.classes)}\n",
    "        self.idx2class = {self.class2idx[cat]:cat for cat in self.class2idx}\n",
    "        self.c = len(self.classes)\n",
    "        \n",
    "        self.x_tfms = list(x_tfms or [noop]) \n",
    "        self.y_tfms = list(y_tfms or [noop]) + [lambda y: self.class2idx[y]]\n",
    "    \n",
    "    def __len__(self): return len(self.predicates)\n",
    "    \n",
    "    def __getitem__(self, i):\n",
    "        subj = self.apply_tfms(self.subjects[i], self.x_tfms)\n",
    "        obj =  self.apply_tfms(self.objects[i] , self.x_tfms)\n",
    "        predicate = self.apply_tfms(self.predicates[i], self.y_tfms)\n",
    "        \n",
    "        return (torch.Tensor(subj).type(torch.cuda.FloatTensor), \n",
    "                torch.Tensor(obj).type(torch.cuda.FloatTensor), \n",
    "                torch.Tensor([predicate]).type(torch.cuda.LongTensor))\n",
    "\n",
    "    def apply_tfms(self, o, tfms):\n",
    "        for tfm in tfms: o = tfm(o)\n",
    "        return o\n",
    "    \n",
    "    def _process_df(self, df):\n",
    "        f\"this function replace empty values in subject/object category and supercategory columns with an empty string ('') \" \n",
    "        cols = ['subject_category', 'subject_supercategory', 'object_category', 'object_supercategory']\n",
    "        \n",
    "        df[cols] = df[cols].fillna('')\n",
    "        return df\n",
    "        "
   ]
  },
  {
   "cell_type": "code",
   "execution_count": null,
   "id": "4701331a",
   "metadata": {},
   "outputs": [],
   "source": []
  },
  {
   "cell_type": "code",
   "execution_count": 6,
   "id": "d24a6a12",
   "metadata": {},
   "outputs": [
    {
     "data": {
      "text/plain": [
       "149776"
      ]
     },
     "execution_count": 6,
     "metadata": {},
     "output_type": "execute_result"
    }
   ],
   "source": [
    "max_phrase_len = 3 #subjects/objects can be mutliple words. eg - microwave oven. max_phrase_len decides how many words are used to create embeddings\n",
    "word_embedding_dim = 300 #decides the dimension of the feature each word is converted into\n",
    "\n",
    "embedding = partial(phrase2vec, max_phrase_len = max_phrase_len, word_embedding_dim = word_embedding_dim)\n",
    "\n",
    "ds = stupd(x_tfms = [embedding],\n",
    "                 y_tfms = None)\n",
    "\n",
    "len(ds)"
   ]
  },
  {
   "cell_type": "code",
   "execution_count": 7,
   "id": "0d9908f3",
   "metadata": {},
   "outputs": [
    {
     "data": {
      "text/plain": [
       "(119820, 29956)"
      ]
     },
     "execution_count": 7,
     "metadata": {},
     "output_type": "execute_result"
    }
   ],
   "source": [
    "train_split = 0.8\n",
    "train_ds, valid_ds = torch.utils.data.random_split(ds, [int(len(ds)*train_split), len(ds) - int(len(ds)*train_split)])\n",
    "train_ds.c, valid_ds.c = ds.c, ds.c\n",
    "\n",
    "len(train_ds), len(valid_ds)"
   ]
  },
  {
   "cell_type": "code",
   "execution_count": 8,
   "id": "b578f364",
   "metadata": {},
   "outputs": [],
   "source": [
    "train_dl = DataLoader(train_ds, batch_size =512 , shuffle = True)\n",
    "valid_dl = DataLoader(valid_ds, batch_size = 1024 , shuffle = False)"
   ]
  },
  {
   "cell_type": "markdown",
   "id": "b731a5a1",
   "metadata": {},
   "source": [
    "# Model"
   ]
  },
  {
   "cell_type": "code",
   "execution_count": 9,
   "id": "36d5da0c",
   "metadata": {},
   "outputs": [],
   "source": [
    "class LinearBlock(nn.Module):\n",
    "    def __init__(self, input_dim, output_dim, bn=True, relu=True):\n",
    "        super().__init__()\n",
    "        \n",
    "        self.bn = bn\n",
    "        self.relu = relu\n",
    "        \n",
    "        self.linear = nn.Linear(input_dim, output_dim)\n",
    "        self.batchnorm = nn.BatchNorm1d(output_dim)\n",
    "        self.ReLU = nn.ReLU()\n",
    "        \n",
    "    def forward(self, x):\n",
    "        x = self.linear(x)\n",
    "        if self.bn: x = self.batchnorm(x)\n",
    "        if self.relu: x = self.ReLU(x)\n",
    "        return x\n",
    "    \n",
    "    \n",
    "class SimpleLanguageOnlyModel(nn.Module):\n",
    "    def __init__(self, word_embedding_dim, feature_dim, c):\n",
    "        super().__init__()\n",
    "        self.phrase_encoder = nn.GRU(input_size = word_embedding_dim, \n",
    "                                     hidden_size = word_embedding_dim//2,\n",
    "                                     num_layers = 1,\n",
    "                                     batch_first = True,\n",
    "                                     bidirectional = True,\n",
    "                                    )\n",
    "\n",
    "        self.linear1 = LinearBlock(word_embedding_dim, feature_dim)\n",
    "        self.linear2 = LinearBlock(word_embedding_dim, feature_dim)\n",
    "        self.linear3 = LinearBlock(2*feature_dim, feature_dim)\n",
    "        self.linear4 = nn.Linear(feature_dim, c)\n",
    "        \n",
    "    def forward(self, subj, obj):\n",
    "        subj = torch.squeeze(self.phrase_encoder(subj)[0][:,-1,:])\n",
    "        obj = torch.squeeze(self.phrase_encoder(obj)[0][:,-1,:])\n",
    "        \n",
    "        subj = self.linear1(subj)\n",
    "        obj  = self.linear2(obj)\n",
    "        \n",
    "        x = torch.cat((subj,obj), dim = 1)\n",
    "        x = self.linear4(self.linear3(x))\n",
    "        return x"
   ]
  },
  {
   "cell_type": "code",
   "execution_count": 10,
   "id": "30f39cf0",
   "metadata": {},
   "outputs": [],
   "source": [
    "dls = DataLoaders(train_dl, valid_dl)\n",
    "dls.n_inp = 2\n",
    "model = SimpleLanguageOnlyModel(word_embedding_dim, 512, train_ds.c).cuda()\n",
    "learn = Learner(dls, model = model, loss_func = CrossEntropyLossFlat(), metrics = [accuracy,BalancedAccuracy()])"
   ]
  },
  {
   "cell_type": "code",
   "execution_count": 11,
   "id": "ec988a99",
   "metadata": {},
   "outputs": [
    {
     "data": {
      "text/html": [
       "\n",
       "<style>\n",
       "    /* Turns off some styling */\n",
       "    progress {\n",
       "        /* gets rid of default border in Firefox and Opera. */\n",
       "        border: none;\n",
       "        /* Needs to be in here for Safari polyfill so background images work as expected. */\n",
       "        background-size: auto;\n",
       "    }\n",
       "    progress:not([value]), progress:not([value])::-webkit-progress-bar {\n",
       "        background: repeating-linear-gradient(45deg, #7e7e7e, #7e7e7e 10px, #5c5c5c 10px, #5c5c5c 20px);\n",
       "    }\n",
       "    .progress-bar-interrupted, .progress-bar-interrupted::-webkit-progress-bar {\n",
       "        background: #F44336;\n",
       "    }\n",
       "</style>\n"
      ],
      "text/plain": [
       "<IPython.core.display.HTML object>"
      ]
     },
     "metadata": {},
     "output_type": "display_data"
    },
    {
     "data": {
      "text/html": [],
      "text/plain": [
       "<IPython.core.display.HTML object>"
      ]
     },
     "metadata": {},
     "output_type": "display_data"
    },
    {
     "data": {
      "text/plain": [
       "SuggestedLRs(valley=0.0006918309954926372)"
      ]
     },
     "execution_count": 11,
     "metadata": {},
     "output_type": "execute_result"
    },
    {
     "data": {
      "image/png": "[encoded data removed]",
      "text/plain": [
       "<Figure size 432x288 with 1 Axes>"
      ]
     },
     "metadata": {
      "needs_background": "light"
     },
     "output_type": "display_data"
    }
   ],
   "source": [
    "learn.lr_find()"
   ]
  },
  {
   "cell_type": "code",
   "execution_count": 12,
   "id": "395dbfec",
   "metadata": {},
   "outputs": [
    {
     "data": {
      "text/html": [
       "\n",
       "<style>\n",
       "    /* Turns off some styling */\n",
       "    progress {\n",
       "        /* gets rid of default border in Firefox and Opera. */\n",
       "        border: none;\n",
       "        /* Needs to be in here for Safari polyfill so background images work as expected. */\n",
       "        background-size: auto;\n",
       "    }\n",
       "    progress:not([value]), progress:not([value])::-webkit-progress-bar {\n",
       "        background: repeating-linear-gradient(45deg, #7e7e7e, #7e7e7e 10px, #5c5c5c 10px, #5c5c5c 20px);\n",
       "    }\n",
       "    .progress-bar-interrupted, .progress-bar-interrupted::-webkit-progress-bar {\n",
       "        background: #F44336;\n",
       "    }\n",
       "</style>\n"
      ],
      "text/plain": [
       "<IPython.core.display.HTML object>"
      ]
     },
     "metadata": {},
     "output_type": "display_data"
    },
    {
     "data": {
      "text/html": [
       "<table border=\"1\" class=\"dataframe\">\n",
       "  <thead>\n",
       "    <tr style=\"text-align: left;\">\n",
       "      <th>epoch</th>\n",
       "      <th>train_loss</th>\n",
       "      <th>valid_loss</th>\n",
       "      <th>accuracy</th>\n",
       "      <th>balanced_accuracy_score</th>\n",
       "      <th>time</th>\n",
       "    </tr>\n",
       "  </thead>\n",
       "  <tbody>\n",
       "    <tr>\n",
       "      <td>0</td>\n",
       "      <td>2.108673</td>\n",
       "      <td>2.091720</td>\n",
       "      <td>0.264388</td>\n",
       "      <td>0.263977</td>\n",
       "      <td>00:12</td>\n",
       "    </tr>\n",
       "    <tr>\n",
       "      <td>1</td>\n",
       "      <td>2.024932</td>\n",
       "      <td>2.062209</td>\n",
       "      <td>0.275337</td>\n",
       "      <td>0.274890</td>\n",
       "      <td>00:12</td>\n",
       "    </tr>\n",
       "    <tr>\n",
       "      <td>2</td>\n",
       "      <td>1.974805</td>\n",
       "      <td>2.001262</td>\n",
       "      <td>0.283282</td>\n",
       "      <td>0.284684</td>\n",
       "      <td>00:12</td>\n",
       "    </tr>\n",
       "    <tr>\n",
       "      <td>3</td>\n",
       "      <td>1.970793</td>\n",
       "      <td>1.979376</td>\n",
       "      <td>0.281546</td>\n",
       "      <td>0.282044</td>\n",
       "      <td>00:12</td>\n",
       "    </tr>\n",
       "    <tr>\n",
       "      <td>4</td>\n",
       "      <td>1.958884</td>\n",
       "      <td>1.960359</td>\n",
       "      <td>0.291995</td>\n",
       "      <td>0.290811</td>\n",
       "      <td>00:12</td>\n",
       "    </tr>\n",
       "    <tr>\n",
       "      <td>5</td>\n",
       "      <td>1.934412</td>\n",
       "      <td>1.949195</td>\n",
       "      <td>0.289258</td>\n",
       "      <td>0.289760</td>\n",
       "      <td>00:12</td>\n",
       "    </tr>\n",
       "    <tr>\n",
       "      <td>6</td>\n",
       "      <td>1.924766</td>\n",
       "      <td>1.942650</td>\n",
       "      <td>0.292696</td>\n",
       "      <td>0.290936</td>\n",
       "      <td>00:12</td>\n",
       "    </tr>\n",
       "    <tr>\n",
       "      <td>7</td>\n",
       "      <td>1.933780</td>\n",
       "      <td>1.939516</td>\n",
       "      <td>0.287388</td>\n",
       "      <td>0.287255</td>\n",
       "      <td>00:12</td>\n",
       "    </tr>\n",
       "    <tr>\n",
       "      <td>8</td>\n",
       "      <td>1.920368</td>\n",
       "      <td>1.935080</td>\n",
       "      <td>0.288456</td>\n",
       "      <td>0.288358</td>\n",
       "      <td>00:12</td>\n",
       "    </tr>\n",
       "    <tr>\n",
       "      <td>9</td>\n",
       "      <td>1.909825</td>\n",
       "      <td>1.934659</td>\n",
       "      <td>0.289992</td>\n",
       "      <td>0.289072</td>\n",
       "      <td>00:12</td>\n",
       "    </tr>\n",
       "  </tbody>\n",
       "</table>"
      ],
      "text/plain": [
       "<IPython.core.display.HTML object>"
      ]
     },
     "metadata": {},
     "output_type": "display_data"
    }
   ],
   "source": [
    "learn.fit_one_cycle(10, 1e-3)"
   ]
  },
  {
   "cell_type": "code",
   "execution_count": 13,
   "id": "57d6d7ad",
   "metadata": {},
   "outputs": [
    {
     "data": {
      "image/png": "[encoded data removed]",
      "text/plain": [
       "<Figure size 1800x360 with 1 Axes>"
      ]
     },
     "metadata": {
      "needs_background": "light"
     },
     "output_type": "display_data"
    },
    {
     "name": "stdout",
     "output_type": "stream",
     "text": [
      "{'around': 0.17054263565891473, 'by': 0.09072978303747535, 'through': 0.8047105004906772, 'into_crash': 0.5552268244575936, 'against_leaning': 1.0, 'in_front_of': 0.2084592145015106, 'down': 0.03368421052631579, 'up': 0.02766798418972332, 'over': 0.32335329341317365, 'inside': 0.31496881496881496, 'below': 0.0009794319294809011, 'outside': 0.4334677419354839, 'along': 0.9948559670781894, 'among': 0.13431269674711438, 'along_position': 0.5929892891918208, 'off': 0.3776091081593928, 'between': 0.004008016032064128, 'with': 0.01936108422071636, 'out_of': 0.006993006993006993, 'towards': 0.01673228346456693, 'on': 0.0, 'from': 0.023638232271325797, 'onto': 0.47914547304170907, 'beside': 0.02971311475409836, 'all_over': 0.9372071227741331, 'around_static': 0.5413687436159347, 'against': 0.12044534412955465, 'behind': 0.2, 'above': 0.0, 'into': 0.2299794661190965}\n"
     ]
    }
   ],
   "source": [
    "corrects = [0]*ds.c\n",
    "total = [0]*ds.c\n",
    "\n",
    "accs = {}\n",
    "for a,b,c in valid_dl:\n",
    "#     res = torch.argmax(model(a,b))\n",
    "    res = torch.argmax(model(a,b), dim = 1, keepdim=False)\n",
    "    \n",
    "    for gt,r in zip(c, res): \n",
    "        total[gt]+=1\n",
    "        corrects[gt]+=(int(gt==r))\n",
    "\n",
    "for i in range(len(corrects)):\n",
    "    accs[ds.idx2class[i]]=corrects[i]/total[i]\n",
    "\n",
    "fig = plt.figure(figsize = (25, 5))\n",
    " \n",
    "# creating the bar plot\n",
    "plt.bar(accs.keys(), accs.values(),\n",
    "        width = 0.4)\n",
    " \n",
    "plt.xlabel(\"relation\")\n",
    "plt.xticks(rotation = 90)\n",
    "plt.ylabel(\"accuracy\")\n",
    "plt.title(\"language only model accuracy\")\n",
    "\n",
    "plt.tick_params(axis=\"y\",direction=\"in\", pad=-22)\n",
    "plt.tick_params(axis=\"x\",direction=\"in\", pad=-100)\n",
    "plt.show()\n",
    "\n",
    "\n",
    "print(accs)"
   ]
  },
  {
   "cell_type": "code",
   "execution_count": 14,
   "id": "cce00ee4",
   "metadata": {},
   "outputs": [
    {
     "data": {
      "image/png": "[encoded data removed]",
      "text/plain": [
       "<Figure size 720x360 with 1 Axes>"
      ]
     },
     "metadata": {
      "needs_background": "light"
     },
     "output_type": "display_data"
    },
    {
     "name": "stdout",
     "output_type": "stream",
     "text": [
      "static_accuracy 0.2669451892498597\n",
      "dynamic_accuracy 0.3165457288598319\n",
      "0.29339881037517823\n"
     ]
    }
   ],
   "source": [
    "corrects = [0]*2\n",
    "total = [0]*2\n",
    "\n",
    "accs = [0]*2\n",
    "for a,b,c in valid_dl:\n",
    "#     res = torch.argmax(model(a,b))\n",
    "    res = torch.argmax(model(a,b), dim = 1, keepdim=False)\n",
    "    \n",
    "    for gt,r in zip(c, res): \n",
    "        total[is_static(ds.idx2class[gt.item()])]+=1\n",
    "        corrects[is_static(ds.idx2class[gt.item()])]+=(int(gt==r))\n",
    "\n",
    "for i in range(len(corrects)):\n",
    "    accs[i]=corrects[i]/total[i]\n",
    "\n",
    "fig = plt.figure(figsize = (10, 5))\n",
    " \n",
    "# creating the bar plot\n",
    "plt.bar(['static', 'dynamic'], accs,\n",
    "        width = 0.4)\n",
    " \n",
    "plt.xlabel(\"relation\")\n",
    "plt.xticks(rotation = 90)\n",
    "plt.ylabel(\"accuracy\")\n",
    "plt.title(\"language only model accuracy\")\n",
    "\n",
    "plt.tick_params(axis=\"y\",direction=\"in\", pad=-22)\n",
    "plt.tick_params(axis=\"x\",direction=\"in\", pad=-100)\n",
    "plt.show()\n",
    "\n",
    "\n",
    "print('static_accuracy', accs[0])\n",
    "print('dynamic_accuracy', accs[1])\n",
    "\n",
    "print(accs[1]*16/30 + accs[0]*14/30)"
   ]
  },
  {
   "cell_type": "code",
   "execution_count": null,
   "id": "cd51136c",
   "metadata": {},
   "outputs": [],
   "source": []
  }
 ],
 "metadata": {
  "kernelspec": {
   "display_name": "Python 3",
   "language": "python",
   "name": "python3"
  },
  "language_info": {
   "codemirror_mode": {
    "name": "ipython",
    "version": 3
   },
   "file_extension": ".py",
   "mimetype": "text/x-python",
   "name": "python",
   "nbconvert_exporter": "python",
   "pygments_lexer": "ipython3",
   "version": "3.9.16"
  }
 },
 "nbformat": 4,
 "nbformat_minor": 5
}
