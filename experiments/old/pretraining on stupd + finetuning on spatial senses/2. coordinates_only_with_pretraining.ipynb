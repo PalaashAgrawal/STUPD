{
 "cells": [
  {
   "cell_type": "code",
   "execution_count": 1,
   "id": "5d80b3da",
   "metadata": {},
   "outputs": [],
   "source": [
    "import torch\n",
    "from torch.utils.data import Dataset\n",
    "from torch import nn\n",
    "import torch.nn.functional as F\n",
    "\n",
    "from fastai.distributed import *\n",
    "from fastai.vision.all import *\n",
    "\n",
    "from pathlib import Path\n",
    "from functools import partial\n",
    "import json\n",
    "import pandas as pd\n",
    "import matplotlib.pyplot as plt\n",
    "import math\n",
    "\n",
    "\n",
    "import ast\n",
    "\n",
    "from PIL import Image"
   ]
  },
  {
   "cell_type": "code",
   "execution_count": 2,
   "id": "a640a761",
   "metadata": {},
   "outputs": [],
   "source": [
    "device = torch.device('cuda:0')\n",
    "core_pth = Path('/home/agrawalp2/prepositions'); assert core_pth.exists()\n",
    "spatialSenses_pth = core_pth/Path('real_world_data/spatialsense'); assert spatialSenses_pth.exists()\n",
    "stupd_pth = Path('/mnt/dataset/agrawalp2/stupd_dataset'); assert stupd_pth.exists()"
   ]
  },
  {
   "cell_type": "code",
   "execution_count": 3,
   "id": "8f5b8731",
   "metadata": {},
   "outputs": [],
   "source": [
    "spatialsenses_to_stupd = {\n",
    "    \"above\": \"above\",\n",
    "    \"behind\": \"behind\",\n",
    "    \"in\": \"inside\",\n",
    "    \"in front of\": \"in_front_of\",\n",
    "    \"next to\": \"beside\",\n",
    "    \"on\": \"on\",\n",
    "    \"to the left of\": \"beside\",\n",
    "    \"to the right of\": \"beside\",\n",
    "    \"under\": \"below\",\n",
    "}\n",
    "\n",
    "def map_spatialsenses_to_stupd(o, mapping_dict = spatialsenses_to_stupd):\n",
    "    return spatialsenses_to_stupd[o]\n",
    "\n",
    "def noop(x): return x"
   ]
  },
  {
   "cell_type": "code",
   "execution_count": 4,
   "id": "23045114",
   "metadata": {},
   "outputs": [],
   "source": [
    "class SpatialDataset(Dataset):\n",
    "    def __init__(self, split=None, \n",
    "                 annotations_path = spatialSenses_pth/'annotations.json', \n",
    "                 x_tfms: list = None,\n",
    "                 y_tfms: list = None):\n",
    "        \n",
    "        super().__init__()\n",
    "#         self.subjects = [] #x1\n",
    "#         self.objects = [] #x2\n",
    "        self.coords = []\n",
    "        self.predicates = [] #y\n",
    "        \n",
    "        self.split = split\n",
    "        if self.split is not None: assert split in ['train', 'valid', 'test'], f\"invalid selection of split. expected values = 'train', 'valid', 'test'\"\n",
    "        \n",
    "        self.classes = list(set(spatialsenses_to_stupd.values()))\n",
    "        self.class2idx = {cat:i for i,cat in enumerate(self.classes)}\n",
    "        self.idx2class = {self.class2idx[cat]:cat for cat in self.class2idx}\n",
    "        self.c = len(self.classes)\n",
    "        \n",
    "        self.x_tfms = list(x_tfms or [noop]) \n",
    "        self.y_tfms = list(y_tfms or [noop]) + [lambda y: self.class2idx[y]]\n",
    "        \n",
    "        for relations in json.load(open(annotations_path)):\n",
    "            if self.split and not relations[\"split\"] == split: continue\n",
    "            for relation in relations['annotations']:\n",
    "                if not relation['label']: continue\n",
    "\n",
    "                self.coords.append([relation['subject']['x'] - relation['object']['x'], relation['subject']['y'] - relation['object']['y'], \n",
    "                                    *relation['subject']['bbox'], \n",
    "                                    *relation['object']['bbox']])\n",
    "#                 self.coords.append([relation['subject']['x'], relation['subject']['y'], relation['object']['x'], relation['object']['x']])\n",
    "#                 self.coords.append([relation['subject']['x'] - relation['object']['x'], relation['subject']['y'] - relation['object']['y']])\n",
    "                self.predicates.append(relation['predicate'])\n",
    "    \n",
    "    def __len__(self): return len(self.coords)\n",
    "    def __getitem__(self, i):\n",
    "        coord = self.apply_tfms(self.coords[i], self.x_tfms)\n",
    "        predicate = self.apply_tfms(self.predicates[i], self.y_tfms)\n",
    "        \n",
    "        return (torch.Tensor(coord).type(torch.cuda.FloatTensor), \n",
    "                torch.Tensor([predicate]).type(torch.cuda.LongTensor))\n",
    "\n",
    "    def apply_tfms(self, o, tfms):\n",
    "        for tfm in tfms: o = tfm(o)\n",
    "        return o"
   ]
  },
  {
   "cell_type": "code",
   "execution_count": 5,
   "id": "27b9196a",
   "metadata": {},
   "outputs": [
    {
     "data": {
      "text/plain": [
       "(5619, 1319)"
      ]
     },
     "execution_count": 5,
     "metadata": {},
     "output_type": "execute_result"
    }
   ],
   "source": [
    "train_ds = SpatialDataset(split = 'train',\n",
    "                         x_tfms = None,\n",
    "                         y_tfms = [map_spatialsenses_to_stupd])\n",
    "\n",
    "valid_ds = SpatialDataset(split = 'valid',\n",
    "                         x_tfms = None,\n",
    "                         y_tfms = [map_spatialsenses_to_stupd])\n",
    "\n",
    "len(train_ds),len(valid_ds)"
   ]
  },
  {
   "cell_type": "code",
   "execution_count": 6,
   "id": "509749ba",
   "metadata": {},
   "outputs": [],
   "source": [
    "train_dl = DataLoader(train_ds, batch_size =16 , shuffle = True, drop_last = True)\n",
    "valid_dl = DataLoader(valid_ds, batch_size = 256 , shuffle = True, drop_last = True)"
   ]
  },
  {
   "cell_type": "code",
   "execution_count": 7,
   "id": "1c5ec25c",
   "metadata": {},
   "outputs": [],
   "source": [
    "class LinearBlock(nn.Module):\n",
    "    def __init__(self, input_dim, output_dim, bn=True, relu=True):\n",
    "        super().__init__()\n",
    "        \n",
    "        self.bn = bn\n",
    "        self.relu = relu\n",
    "        \n",
    "        self.linear = nn.Linear(input_dim, output_dim)\n",
    "        self.batchnorm = nn.BatchNorm1d(output_dim)\n",
    "        self.ReLU = nn.ReLU()\n",
    "        \n",
    "    def forward(self, x):\n",
    "        x = self.linear(x)\n",
    "        if self.bn: x = self.batchnorm(x)\n",
    "        if self.relu: x = self.ReLU(x)\n",
    "        return x\n",
    "    \n",
    "    \n",
    "class SimpleCoordinateOnlyModel(nn.Module):\n",
    "    def __init__(self, coord_len, feature_dim, c):\n",
    "        super().__init__()\n",
    "\n",
    "        self.layers = nn.Sequential(*[LinearBlock(coord_len, feature_dim)] + [LinearBlock(feature_dim, feature_dim) for _ in range(4)] + [nn.Linear(feature_dim, c)])\n",
    "    \n",
    "    def forward(self, x):\n",
    "        return self.layers(x)"
   ]
  },
  {
   "cell_type": "code",
   "execution_count": 8,
   "id": "abdbf847",
   "metadata": {},
   "outputs": [],
   "source": [
    "dls = DataLoaders(train_dl, valid_dl)\n",
    "model = SimpleCoordinateOnlyModel(10, 64, train_ds.c).cuda()\n",
    "learn = Learner(dls, model = model, loss_func = CrossEntropyLossFlat(), metrics = [accuracy,BalancedAccuracy()])"
   ]
  },
  {
   "cell_type": "code",
   "execution_count": 9,
   "id": "1383083b",
   "metadata": {},
   "outputs": [
    {
     "data": {
      "text/html": [
       "\n",
       "<style>\n",
       "    /* Turns off some styling */\n",
       "    progress {\n",
       "        /* gets rid of default border in Firefox and Opera. */\n",
       "        border: none;\n",
       "        /* Needs to be in here for Safari polyfill so background images work as expected. */\n",
       "        background-size: auto;\n",
       "    }\n",
       "    progress:not([value]), progress:not([value])::-webkit-progress-bar {\n",
       "        background: repeating-linear-gradient(45deg, #7e7e7e, #7e7e7e 10px, #5c5c5c 10px, #5c5c5c 20px);\n",
       "    }\n",
       "    .progress-bar-interrupted, .progress-bar-interrupted::-webkit-progress-bar {\n",
       "        background: #F44336;\n",
       "    }\n",
       "</style>\n"
      ],
      "text/plain": [
       "<IPython.core.display.HTML object>"
      ]
     },
     "metadata": {},
     "output_type": "display_data"
    },
    {
     "data": {
      "text/html": [
       "<table border=\"1\" class=\"dataframe\">\n",
       "  <thead>\n",
       "    <tr style=\"text-align: left;\">\n",
       "      <th>epoch</th>\n",
       "      <th>train_loss</th>\n",
       "      <th>valid_loss</th>\n",
       "      <th>accuracy</th>\n",
       "      <th>balanced_accuracy_score</th>\n",
       "      <th>time</th>\n",
       "    </tr>\n",
       "  </thead>\n",
       "  <tbody>\n",
       "    <tr>\n",
       "      <td>0</td>\n",
       "      <td>1.568954</td>\n",
       "      <td>1.504217</td>\n",
       "      <td>0.457031</td>\n",
       "      <td>0.315763</td>\n",
       "      <td>00:03</td>\n",
       "    </tr>\n",
       "    <tr>\n",
       "      <td>1</td>\n",
       "      <td>1.531300</td>\n",
       "      <td>1.472358</td>\n",
       "      <td>0.465625</td>\n",
       "      <td>0.324224</td>\n",
       "      <td>00:02</td>\n",
       "    </tr>\n",
       "    <tr>\n",
       "      <td>2</td>\n",
       "      <td>1.541894</td>\n",
       "      <td>1.460655</td>\n",
       "      <td>0.499219</td>\n",
       "      <td>0.378310</td>\n",
       "      <td>00:02</td>\n",
       "    </tr>\n",
       "    <tr>\n",
       "      <td>3</td>\n",
       "      <td>1.509629</td>\n",
       "      <td>1.473166</td>\n",
       "      <td>0.459375</td>\n",
       "      <td>0.354624</td>\n",
       "      <td>00:02</td>\n",
       "    </tr>\n",
       "    <tr>\n",
       "      <td>4</td>\n",
       "      <td>1.526597</td>\n",
       "      <td>1.470009</td>\n",
       "      <td>0.471094</td>\n",
       "      <td>0.369949</td>\n",
       "      <td>00:02</td>\n",
       "    </tr>\n",
       "    <tr>\n",
       "      <td>5</td>\n",
       "      <td>1.521170</td>\n",
       "      <td>1.433250</td>\n",
       "      <td>0.493750</td>\n",
       "      <td>0.368006</td>\n",
       "      <td>00:02</td>\n",
       "    </tr>\n",
       "    <tr>\n",
       "      <td>6</td>\n",
       "      <td>1.524947</td>\n",
       "      <td>1.460063</td>\n",
       "      <td>0.467187</td>\n",
       "      <td>0.342206</td>\n",
       "      <td>00:02</td>\n",
       "    </tr>\n",
       "    <tr>\n",
       "      <td>7</td>\n",
       "      <td>1.501352</td>\n",
       "      <td>1.450640</td>\n",
       "      <td>0.478125</td>\n",
       "      <td>0.345320</td>\n",
       "      <td>00:02</td>\n",
       "    </tr>\n",
       "    <tr>\n",
       "      <td>8</td>\n",
       "      <td>1.504029</td>\n",
       "      <td>1.436399</td>\n",
       "      <td>0.476562</td>\n",
       "      <td>0.368887</td>\n",
       "      <td>00:02</td>\n",
       "    </tr>\n",
       "    <tr>\n",
       "      <td>9</td>\n",
       "      <td>1.479694</td>\n",
       "      <td>1.450047</td>\n",
       "      <td>0.484375</td>\n",
       "      <td>0.373839</td>\n",
       "      <td>00:02</td>\n",
       "    </tr>\n",
       "  </tbody>\n",
       "</table>"
      ],
      "text/plain": [
       "<IPython.core.display.HTML object>"
      ]
     },
     "metadata": {},
     "output_type": "display_data"
    }
   ],
   "source": [
    "learn.fit(10, 3e-3)"
   ]
  },
  {
   "cell_type": "markdown",
   "id": "35863f54",
   "metadata": {},
   "source": [
    "# Pretraining on stupd first"
   ]
  },
  {
   "cell_type": "code",
   "execution_count": 10,
   "id": "707cde38",
   "metadata": {},
   "outputs": [],
   "source": [
    "def convert_stupd_bbox_to_spatialsense_bbox(bbox):\n",
    "    #stupd bbox format = wmin, hmin, w, h\n",
    "    #spatialsenses bbox format = hmin, hmax, wmin, wmax\n",
    "    \n",
    "    wmin, hmin, w,h = bbox\n",
    "    return (hmin, hmin+h, wmin, wmin+w)"
   ]
  },
  {
   "cell_type": "code",
   "execution_count": 11,
   "id": "10740563",
   "metadata": {},
   "outputs": [],
   "source": [
    "class stupd(Dataset):\n",
    "    def __init__(self, \n",
    "                 annotations_path = stupd_pth/'annotations', \n",
    "                 x_tfms: list = None,\n",
    "                 y_tfms: list = None):\n",
    "        \n",
    "        super().__init__()\n",
    "#         self.subjects = [] #x1\n",
    "#         self.objects = [] #x2\n",
    "        self.coords = []\n",
    "        self.predicates = [] #y\n",
    "        \n",
    "        \n",
    "        self.classes = list(set(spatialsenses_to_stupd.values()))\n",
    "        self.class2idx = {cat:i for i,cat in enumerate(self.classes)}\n",
    "        self.idx2class = {self.class2idx[cat]:cat for cat in self.class2idx}\n",
    "        self.c = len(self.classes)\n",
    "        \n",
    "        self.x_tfms = list(x_tfms or [noop]) \n",
    "        self.y_tfms = list(y_tfms or [noop]) + [lambda y: self.class2idx[y]]\n",
    "\n",
    "        for annotations in annotations_path.iterdir():\n",
    "            \n",
    "            if annotations.stem not in spatialsenses_to_stupd.values(): continue\n",
    "            df = pd.read_csv(annotations).dropna()\n",
    "            for i,row in df.iterrows():\n",
    "                subj_3dcoords = ast.literal_eval(row['subject_position3d'])[0]\n",
    "                obj_3dcoords = ast.literal_eval(row['object_position3d'])[0]\n",
    "                subj_2dbbox = ast.literal_eval(row['subject_bbox2d'])[0]\n",
    "                obj_2dbbox = ast.literal_eval(row['object_bbox2d'])[0]\n",
    "                self.coords.append([subj_3dcoords['x'] -obj_3dcoords['x'], subj_3dcoords['y'] -obj_3dcoords['y'],\n",
    "                                   *convert_stupd_bbox_to_spatialsense_bbox(subj_2dbbox),\n",
    "                                   * convert_stupd_bbox_to_spatialsense_bbox(obj_2dbbox)])\n",
    "                self.predicates.append(annotations.stem)\n",
    "    \n",
    "    def __len__(self): return len(self.coords)\n",
    "    def __getitem__(self, i):\n",
    "        coord = self.apply_tfms(self.coords[i], self.x_tfms)\n",
    "        predicate = self.apply_tfms(self.predicates[i], self.y_tfms)\n",
    "        \n",
    "        return (torch.Tensor(coord).type(torch.cuda.FloatTensor), \n",
    "                torch.Tensor([predicate]).type(torch.cuda.LongTensor))\n",
    "\n",
    "    def apply_tfms(self, o, tfms):\n",
    "        for tfm in tfms: o = tfm(o)\n",
    "        return o"
   ]
  },
  {
   "cell_type": "code",
   "execution_count": 12,
   "id": "63c7c669",
   "metadata": {},
   "outputs": [
    {
     "data": {
      "text/plain": [
       "34313"
      ]
     },
     "execution_count": 12,
     "metadata": {},
     "output_type": "execute_result"
    }
   ],
   "source": [
    "ds = stupd()\n",
    "len(ds)"
   ]
  },
  {
   "cell_type": "code",
   "execution_count": 13,
   "id": "4757915d",
   "metadata": {},
   "outputs": [
    {
     "data": {
      "text/plain": [
       "(27450, 6863)"
      ]
     },
     "execution_count": 13,
     "metadata": {},
     "output_type": "execute_result"
    }
   ],
   "source": [
    "train_split = 0.8\n",
    "train_ds, valid_ds = torch.utils.data.random_split(ds, [int(len(ds)*train_split), len(ds) - int(len(ds)*train_split)])\n",
    "train_ds.c, valid_ds.c = 7,7\n",
    "\n",
    "len(train_ds), len(valid_ds)"
   ]
  },
  {
   "cell_type": "code",
   "execution_count": 14,
   "id": "934a40d5",
   "metadata": {},
   "outputs": [],
   "source": [
    "train_dl = DataLoader(train_ds, batch_size =16 , shuffle = True, drop_last = True)\n",
    "valid_dl = DataLoader(valid_ds, batch_size = 256 , shuffle = True, drop_last = True)"
   ]
  },
  {
   "cell_type": "code",
   "execution_count": 22,
   "id": "4e8a9482",
   "metadata": {},
   "outputs": [],
   "source": [
    "dls = DataLoaders(train_dl, valid_dl)\n",
    "model = SimpleCoordinateOnlyModel(10, 64, train_ds.c).cuda()\n",
    "learn = Learner(dls, model = model, loss_func = CrossEntropyLossFlat(), metrics = [accuracy,BalancedAccuracy()])"
   ]
  },
  {
   "cell_type": "code",
   "execution_count": 23,
   "id": "c2427e73",
   "metadata": {},
   "outputs": [
    {
     "data": {
      "text/html": [
       "\n",
       "<style>\n",
       "    /* Turns off some styling */\n",
       "    progress {\n",
       "        /* gets rid of default border in Firefox and Opera. */\n",
       "        border: none;\n",
       "        /* Needs to be in here for Safari polyfill so background images work as expected. */\n",
       "        background-size: auto;\n",
       "    }\n",
       "    progress:not([value]), progress:not([value])::-webkit-progress-bar {\n",
       "        background: repeating-linear-gradient(45deg, #7e7e7e, #7e7e7e 10px, #5c5c5c 10px, #5c5c5c 20px);\n",
       "    }\n",
       "    .progress-bar-interrupted, .progress-bar-interrupted::-webkit-progress-bar {\n",
       "        background: #F44336;\n",
       "    }\n",
       "</style>\n"
      ],
      "text/plain": [
       "<IPython.core.display.HTML object>"
      ]
     },
     "metadata": {},
     "output_type": "display_data"
    },
    {
     "data": {
      "text/html": [
       "<table border=\"1\" class=\"dataframe\">\n",
       "  <thead>\n",
       "    <tr style=\"text-align: left;\">\n",
       "      <th>epoch</th>\n",
       "      <th>train_loss</th>\n",
       "      <th>valid_loss</th>\n",
       "      <th>accuracy</th>\n",
       "      <th>balanced_accuracy_score</th>\n",
       "      <th>time</th>\n",
       "    </tr>\n",
       "  </thead>\n",
       "  <tbody>\n",
       "    <tr>\n",
       "      <td>0</td>\n",
       "      <td>0.627927</td>\n",
       "      <td>0.471428</td>\n",
       "      <td>0.823017</td>\n",
       "      <td>0.822433</td>\n",
       "      <td>00:11</td>\n",
       "    </tr>\n",
       "    <tr>\n",
       "      <td>1</td>\n",
       "      <td>0.513339</td>\n",
       "      <td>0.409692</td>\n",
       "      <td>0.842849</td>\n",
       "      <td>0.841599</td>\n",
       "      <td>00:12</td>\n",
       "    </tr>\n",
       "    <tr>\n",
       "      <td>2</td>\n",
       "      <td>0.451219</td>\n",
       "      <td>0.384333</td>\n",
       "      <td>0.843750</td>\n",
       "      <td>0.844581</td>\n",
       "      <td>00:11</td>\n",
       "    </tr>\n",
       "  </tbody>\n",
       "</table>"
      ],
      "text/plain": [
       "<IPython.core.display.HTML object>"
      ]
     },
     "metadata": {},
     "output_type": "display_data"
    }
   ],
   "source": [
    "learn.fit_one_cycle(3, 1e-3)"
   ]
  },
  {
   "cell_type": "code",
   "execution_count": 24,
   "id": "b083ca01",
   "metadata": {},
   "outputs": [
    {
     "data": {
      "text/plain": [
       "(5619, 1319)"
      ]
     },
     "execution_count": 24,
     "metadata": {},
     "output_type": "execute_result"
    }
   ],
   "source": [
    "train_ds_spatialsenses = SpatialDataset(split = 'train',\n",
    "                         x_tfms = None,\n",
    "                         y_tfms = [map_spatialsenses_to_stupd])\n",
    "\n",
    "valid_ds_spatialsenses = SpatialDataset(split = 'valid',\n",
    "                         x_tfms = None,\n",
    "                         y_tfms = [map_spatialsenses_to_stupd])\n",
    "\n",
    "len(train_ds_spatialsenses),len(valid_ds_spatialsenses)"
   ]
  },
  {
   "cell_type": "code",
   "execution_count": 25,
   "id": "9776b525",
   "metadata": {},
   "outputs": [],
   "source": [
    "train_dl_spatialsenses = DataLoader(train_ds_spatialsenses, batch_size =64 , shuffle = True)\n",
    "valid_dl_spatialsenses = DataLoader(valid_ds_spatialsenses, batch_size = 128 , shuffle = False)\n",
    "dls_spatialsenses = DataLoaders(train_dl_spatialsenses, valid_dl_spatialsenses)"
   ]
  },
  {
   "cell_type": "code",
   "execution_count": 26,
   "id": "421be1d8",
   "metadata": {},
   "outputs": [
    {
     "data": {
      "text/html": [
       "\n",
       "<style>\n",
       "    /* Turns off some styling */\n",
       "    progress {\n",
       "        /* gets rid of default border in Firefox and Opera. */\n",
       "        border: none;\n",
       "        /* Needs to be in here for Safari polyfill so background images work as expected. */\n",
       "        background-size: auto;\n",
       "    }\n",
       "    progress:not([value]), progress:not([value])::-webkit-progress-bar {\n",
       "        background: repeating-linear-gradient(45deg, #7e7e7e, #7e7e7e 10px, #5c5c5c 10px, #5c5c5c 20px);\n",
       "    }\n",
       "    .progress-bar-interrupted, .progress-bar-interrupted::-webkit-progress-bar {\n",
       "        background: #F44336;\n",
       "    }\n",
       "</style>\n"
      ],
      "text/plain": [
       "<IPython.core.display.HTML object>"
      ]
     },
     "metadata": {},
     "output_type": "display_data"
    },
    {
     "data": {
      "text/html": [],
      "text/plain": [
       "<IPython.core.display.HTML object>"
      ]
     },
     "metadata": {},
     "output_type": "display_data"
    },
    {
     "data": {
      "text/plain": [
       "SuggestedLRs(valley=0.019054606556892395)"
      ]
     },
     "execution_count": 26,
     "metadata": {},
     "output_type": "execute_result"
    },
    {
     "data": {
      "image/png": "[encoded data removed]",
      "text/plain": [
       "<Figure size 432x288 with 1 Axes>"
      ]
     },
     "metadata": {
      "needs_background": "light"
     },
     "output_type": "display_data"
    }
   ],
   "source": [
    "learn = Learner(dls_spatialsenses, model = model, loss_func = CrossEntropyLossFlat(), metrics = [accuracy,BalancedAccuracy()])\n",
    "learn.lr_find()"
   ]
  },
  {
   "cell_type": "code",
   "execution_count": 27,
   "id": "507b7766",
   "metadata": {},
   "outputs": [
    {
     "data": {
      "text/html": [
       "\n",
       "<style>\n",
       "    /* Turns off some styling */\n",
       "    progress {\n",
       "        /* gets rid of default border in Firefox and Opera. */\n",
       "        border: none;\n",
       "        /* Needs to be in here for Safari polyfill so background images work as expected. */\n",
       "        background-size: auto;\n",
       "    }\n",
       "    progress:not([value]), progress:not([value])::-webkit-progress-bar {\n",
       "        background: repeating-linear-gradient(45deg, #7e7e7e, #7e7e7e 10px, #5c5c5c 10px, #5c5c5c 20px);\n",
       "    }\n",
       "    .progress-bar-interrupted, .progress-bar-interrupted::-webkit-progress-bar {\n",
       "        background: #F44336;\n",
       "    }\n",
       "</style>\n"
      ],
      "text/plain": [
       "<IPython.core.display.HTML object>"
      ]
     },
     "metadata": {},
     "output_type": "display_data"
    },
    {
     "data": {
      "text/html": [
       "<table border=\"1\" class=\"dataframe\">\n",
       "  <thead>\n",
       "    <tr style=\"text-align: left;\">\n",
       "      <th>epoch</th>\n",
       "      <th>train_loss</th>\n",
       "      <th>valid_loss</th>\n",
       "      <th>accuracy</th>\n",
       "      <th>balanced_accuracy_score</th>\n",
       "      <th>time</th>\n",
       "    </tr>\n",
       "  </thead>\n",
       "  <tbody>\n",
       "    <tr>\n",
       "      <td>0</td>\n",
       "      <td>1.650496</td>\n",
       "      <td>1.486557</td>\n",
       "      <td>0.473844</td>\n",
       "      <td>0.370369</td>\n",
       "      <td>00:00</td>\n",
       "    </tr>\n",
       "    <tr>\n",
       "      <td>1</td>\n",
       "      <td>1.562365</td>\n",
       "      <td>1.673597</td>\n",
       "      <td>0.407127</td>\n",
       "      <td>0.361877</td>\n",
       "      <td>00:00</td>\n",
       "    </tr>\n",
       "    <tr>\n",
       "      <td>2</td>\n",
       "      <td>1.544837</td>\n",
       "      <td>1.581982</td>\n",
       "      <td>0.401820</td>\n",
       "      <td>0.348902</td>\n",
       "      <td>00:00</td>\n",
       "    </tr>\n",
       "    <tr>\n",
       "      <td>3</td>\n",
       "      <td>1.548991</td>\n",
       "      <td>1.641278</td>\n",
       "      <td>0.401820</td>\n",
       "      <td>0.305892</td>\n",
       "      <td>00:00</td>\n",
       "    </tr>\n",
       "    <tr>\n",
       "      <td>4</td>\n",
       "      <td>1.540524</td>\n",
       "      <td>1.592286</td>\n",
       "      <td>0.429113</td>\n",
       "      <td>0.321775</td>\n",
       "      <td>00:00</td>\n",
       "    </tr>\n",
       "    <tr>\n",
       "      <td>5</td>\n",
       "      <td>1.520230</td>\n",
       "      <td>1.510691</td>\n",
       "      <td>0.482183</td>\n",
       "      <td>0.374637</td>\n",
       "      <td>00:00</td>\n",
       "    </tr>\n",
       "    <tr>\n",
       "      <td>6</td>\n",
       "      <td>1.506464</td>\n",
       "      <td>1.587167</td>\n",
       "      <td>0.426080</td>\n",
       "      <td>0.360241</td>\n",
       "      <td>00:00</td>\n",
       "    </tr>\n",
       "    <tr>\n",
       "      <td>7</td>\n",
       "      <td>1.503896</td>\n",
       "      <td>1.501997</td>\n",
       "      <td>0.463230</td>\n",
       "      <td>0.357858</td>\n",
       "      <td>00:00</td>\n",
       "    </tr>\n",
       "    <tr>\n",
       "      <td>8</td>\n",
       "      <td>1.503829</td>\n",
       "      <td>1.502060</td>\n",
       "      <td>0.449583</td>\n",
       "      <td>0.358936</td>\n",
       "      <td>00:00</td>\n",
       "    </tr>\n",
       "    <tr>\n",
       "      <td>9</td>\n",
       "      <td>1.485403</td>\n",
       "      <td>1.482254</td>\n",
       "      <td>0.475360</td>\n",
       "      <td>0.357762</td>\n",
       "      <td>00:00</td>\n",
       "    </tr>\n",
       "    <tr>\n",
       "      <td>10</td>\n",
       "      <td>1.471747</td>\n",
       "      <td>1.523779</td>\n",
       "      <td>0.448067</td>\n",
       "      <td>0.342125</td>\n",
       "      <td>00:00</td>\n",
       "    </tr>\n",
       "    <tr>\n",
       "      <td>11</td>\n",
       "      <td>1.457690</td>\n",
       "      <td>1.456910</td>\n",
       "      <td>0.484458</td>\n",
       "      <td>0.390243</td>\n",
       "      <td>00:00</td>\n",
       "    </tr>\n",
       "    <tr>\n",
       "      <td>12</td>\n",
       "      <td>1.448598</td>\n",
       "      <td>1.484505</td>\n",
       "      <td>0.463230</td>\n",
       "      <td>0.372966</td>\n",
       "      <td>00:00</td>\n",
       "    </tr>\n",
       "    <tr>\n",
       "      <td>13</td>\n",
       "      <td>1.431551</td>\n",
       "      <td>1.414471</td>\n",
       "      <td>0.502654</td>\n",
       "      <td>0.393383</td>\n",
       "      <td>00:00</td>\n",
       "    </tr>\n",
       "    <tr>\n",
       "      <td>14</td>\n",
       "      <td>1.420378</td>\n",
       "      <td>1.420263</td>\n",
       "      <td>0.499621</td>\n",
       "      <td>0.390805</td>\n",
       "      <td>00:00</td>\n",
       "    </tr>\n",
       "    <tr>\n",
       "      <td>15</td>\n",
       "      <td>1.400883</td>\n",
       "      <td>1.417653</td>\n",
       "      <td>0.490523</td>\n",
       "      <td>0.379513</td>\n",
       "      <td>00:00</td>\n",
       "    </tr>\n",
       "    <tr>\n",
       "      <td>16</td>\n",
       "      <td>1.384276</td>\n",
       "      <td>1.406157</td>\n",
       "      <td>0.492798</td>\n",
       "      <td>0.386316</td>\n",
       "      <td>00:00</td>\n",
       "    </tr>\n",
       "    <tr>\n",
       "      <td>17</td>\n",
       "      <td>1.377027</td>\n",
       "      <td>1.417989</td>\n",
       "      <td>0.496588</td>\n",
       "      <td>0.390395</td>\n",
       "      <td>00:00</td>\n",
       "    </tr>\n",
       "    <tr>\n",
       "      <td>18</td>\n",
       "      <td>1.375546</td>\n",
       "      <td>1.408739</td>\n",
       "      <td>0.498105</td>\n",
       "      <td>0.390563</td>\n",
       "      <td>00:00</td>\n",
       "    </tr>\n",
       "    <tr>\n",
       "      <td>19</td>\n",
       "      <td>1.360942</td>\n",
       "      <td>1.412917</td>\n",
       "      <td>0.495072</td>\n",
       "      <td>0.389108</td>\n",
       "      <td>00:00</td>\n",
       "    </tr>\n",
       "  </tbody>\n",
       "</table>"
      ],
      "text/plain": [
       "<IPython.core.display.HTML object>"
      ]
     },
     "metadata": {},
     "output_type": "display_data"
    }
   ],
   "source": [
    "learn.fit_one_cycle(20, 0.05) #had to run this twice to get 50.2 pct accuracy"
   ]
  },
  {
   "cell_type": "code",
   "execution_count": null,
   "id": "9903e783",
   "metadata": {},
   "outputs": [],
   "source": []
  }
 ],
 "metadata": {
  "kernelspec": {
   "display_name": "Python 3",
   "language": "python",
   "name": "python3"
  },
  "language_info": {
   "codemirror_mode": {
    "name": "ipython",
    "version": 3
   },
   "file_extension": ".py",
   "mimetype": "text/x-python",
   "name": "python",
   "nbconvert_exporter": "python",
   "pygments_lexer": "ipython3",
   "version": "3.9.16"
  }
 },
 "nbformat": 4,
 "nbformat_minor": 5
}
