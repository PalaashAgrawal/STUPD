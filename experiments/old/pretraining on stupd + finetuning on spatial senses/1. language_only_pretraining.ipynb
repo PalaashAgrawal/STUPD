{
 "cells": [
  {
   "cell_type": "markdown",
   "id": "405ddf01",
   "metadata": {},
   "source": [
    "We want to show that accuracy increases on SpatialSenses when pretrained on STUPD"
   ]
  },
  {
   "cell_type": "markdown",
   "id": "ca45af4e",
   "metadata": {},
   "source": [
    "# Training on spatial senses only"
   ]
  },
  {
   "cell_type": "markdown",
   "id": "45e43091",
   "metadata": {},
   "source": [
    "## Data"
   ]
  },
  {
   "cell_type": "code",
   "execution_count": 1,
   "id": "87f26744",
   "metadata": {},
   "outputs": [],
   "source": [
    "import torch\n",
    "from torch.utils.data import Dataset\n",
    "from torch import nn\n",
    "import torch.nn.functional as F\n",
    "\n",
    "from fastai.distributed import *\n",
    "from fastai.vision.all import *\n",
    "\n",
    "from pathlib import Path\n",
    "from functools import partial\n",
    "import json\n",
    "import pandas as pd\n",
    "import matplotlib.pyplot as plt\n",
    "import math"
   ]
  },
  {
   "cell_type": "code",
   "execution_count": 2,
   "id": "fac137c5",
   "metadata": {},
   "outputs": [],
   "source": [
    "device = torch.device('cuda:0')\n",
    "core_pth = Path('/home/agrawalp2/prepositions'); assert core_pth.exists()\n",
    "spatialSenses_pth = core_pth/Path('real_world_data/spatialsense'); assert spatialSenses_pth.exists()\n",
    "stupd_pth = Path('/mnt/dataset/agrawalp2/stupd_dataset'); assert stupd_pth.exists()"
   ]
  },
  {
   "cell_type": "code",
   "execution_count": 3,
   "id": "b4410faa",
   "metadata": {},
   "outputs": [],
   "source": [
    "#utils\n",
    "from gensim.models import KeyedVectors\n",
    "import numpy as np\n",
    "from autocorrect import Speller\n",
    "\n",
    "encoder_path = spatialSenses_pth/Path('baselines/GoogleNews-vectors-negative300.bin.gz')\n",
    "assert encoder_path.exists()\n",
    "word2vec = KeyedVectors.load_word2vec_format(encoder_path, binary=True, unicode_errors=\"ignore\")\n",
    "\n",
    "spell = Speller()\n",
    "def phrase2vec(phrase, max_phrase_len, word_embedding_dim):\n",
    "    vec = np.zeros((max_phrase_len, word_embedding_dim,), dtype=np.float32)\n",
    "    for i, word in enumerate(phrase.split()[:max_phrase_len]):\n",
    "        if word in word2vec: vec[i] = word2vec[word]\n",
    "        elif spell(word) in word2vec: vec[i] = word2vec[spell(word)]\n",
    "        else: pass\n",
    "    return vec\n",
    "\n",
    "spatialsenses_to_stupd = {\n",
    "    \"above\": \"above\",\n",
    "    \"behind\": \"behind\",\n",
    "    \"in\": \"inside\",\n",
    "    \"in front of\": \"in_front_of\",\n",
    "    \"next to\": \"beside\",\n",
    "    \"on\": \"on\",\n",
    "    \"to the left of\": \"beside\",\n",
    "    \"to the right of\": \"beside\",\n",
    "    \"under\": \"below\",\n",
    "}\n",
    "\n",
    "def map_spatialsenses_to_stupd(o, mapping_dict = spatialsenses_to_stupd):\n",
    "    return spatialsenses_to_stupd[o]\n",
    "\n",
    "def noop(x): return x"
   ]
  },
  {
   "cell_type": "code",
   "execution_count": 4,
   "id": "bdf026ae",
   "metadata": {},
   "outputs": [],
   "source": [
    "class SpatialDataset(Dataset):\n",
    "    def __init__(self, split=None, \n",
    "                 annotations_path = spatialSenses_pth/'annotations.json', \n",
    "                 x_tfms: list = None,\n",
    "                 y_tfms: list = None):\n",
    "        \n",
    "        super().__init__()\n",
    "        self.subjects = [] #x1\n",
    "        self.objects = [] #x2\n",
    "        self.predicates = [] #y\n",
    "        \n",
    "        \n",
    "        self.split = split\n",
    "        if self.split is not None: assert split in ['train', 'valid', 'test'], f\"invalid selection of split. expected values = 'train', 'valid', 'test'\"\n",
    "        \n",
    "        self.classes = list(set(spatialsenses_to_stupd.values()))\n",
    "        self.class2idx = {cat:i for i,cat in enumerate(self.classes)}\n",
    "        self.idx2class = {self.class2idx[cat]:cat for cat in self.class2idx}\n",
    "        self.c = len(self.classes)\n",
    "        \n",
    "        self.x_tfms = list(x_tfms or [noop]) \n",
    "        self.y_tfms = list(y_tfms or [noop]) + [lambda y: self.class2idx[y]]\n",
    "        \n",
    "        for relations in json.load(open(annotations_path)):\n",
    "            if self.split and not relations[\"split\"] == split: continue\n",
    "            for relation in relations['annotations']:\n",
    "                if not relation['label']: continue\n",
    "                self.subjects.append(relation['subject']['name'])\n",
    "                self.objects.append(relation['object']['name'])\n",
    "                self.predicates.append(relation['predicate'])\n",
    "    \n",
    "    def __len__(self): return len(self.subjects)\n",
    "    def __getitem__(self, i):\n",
    "        subj = self.apply_tfms(self.subjects[i], self.x_tfms)\n",
    "        obj =  self.apply_tfms(self.objects[i] , self.x_tfms)\n",
    "        predicate = self.apply_tfms(self.predicates[i], self.y_tfms)\n",
    "        \n",
    "        return (torch.Tensor(subj).type(torch.cuda.FloatTensor), \n",
    "                torch.Tensor(obj).type(torch.cuda.FloatTensor), \n",
    "                torch.Tensor([predicate]).type(torch.cuda.LongTensor))\n",
    "\n",
    "    def apply_tfms(self, o, tfms):\n",
    "        for tfm in tfms: o = tfm(o)\n",
    "        return o"
   ]
  },
  {
   "cell_type": "code",
   "execution_count": 5,
   "id": "58f65a08",
   "metadata": {},
   "outputs": [
    {
     "data": {
      "text/plain": [
       "(5619, 1319)"
      ]
     },
     "execution_count": 5,
     "metadata": {},
     "output_type": "execute_result"
    }
   ],
   "source": [
    "max_phrase_len = 2 #subjects/objects can be mutliple words. eg - microwave oven. max_phrase_len decides how many words are used to create embeddings\n",
    "word_embedding_dim = 300 #decides the dimension of the feature each word is converted into\n",
    "\n",
    "embedding = partial(phrase2vec, max_phrase_len = max_phrase_len, word_embedding_dim = word_embedding_dim)\n",
    "\n",
    "train_ds = SpatialDataset(split = 'train',\n",
    "                         x_tfms = [embedding],\n",
    "                         y_tfms = [map_spatialsenses_to_stupd])\n",
    "\n",
    "valid_ds = SpatialDataset(split = 'valid',\n",
    "                         x_tfms = [embedding],\n",
    "                         y_tfms = [map_spatialsenses_to_stupd])\n",
    "\n",
    "len(train_ds),len(valid_ds)"
   ]
  },
  {
   "cell_type": "code",
   "execution_count": 6,
   "id": "97f954b1",
   "metadata": {},
   "outputs": [],
   "source": [
    "train_dl = DataLoader(train_ds, batch_size =64 , shuffle = True, drop_last = True)\n",
    "valid_dl = DataLoader(valid_ds, batch_size = 128 , shuffle = True, drop_last = True)"
   ]
  },
  {
   "cell_type": "markdown",
   "id": "19d92b34",
   "metadata": {},
   "source": [
    "## Model"
   ]
  },
  {
   "cell_type": "code",
   "execution_count": 7,
   "id": "63309912",
   "metadata": {},
   "outputs": [],
   "source": [
    "class LinearBlock(nn.Module):\n",
    "    def __init__(self, input_dim, output_dim, bn=True, relu=True):\n",
    "        super().__init__()\n",
    "        \n",
    "        self.bn = bn\n",
    "        self.relu = relu\n",
    "        \n",
    "        self.linear = nn.Linear(input_dim, output_dim)\n",
    "        self.batchnorm = nn.BatchNorm1d(output_dim)\n",
    "        self.ReLU = nn.ReLU()\n",
    "        \n",
    "    def forward(self, x):\n",
    "        x = self.linear(x)\n",
    "        if self.bn: x = self.batchnorm(x)\n",
    "        if self.relu: x = self.ReLU(x)\n",
    "        return x\n",
    "    \n",
    "    \n",
    "class SimpleLanguageOnlyModel(nn.Module):\n",
    "    def __init__(self, word_embedding_dim, feature_dim, c):\n",
    "        super().__init__()\n",
    "        self.phrase_encoder = nn.GRU(input_size = word_embedding_dim, \n",
    "                                     hidden_size = word_embedding_dim//2,\n",
    "                                     num_layers = 1,\n",
    "                                     batch_first = True,\n",
    "                                     bidirectional = True,\n",
    "                                    )\n",
    "\n",
    "        self.linear1 = LinearBlock(word_embedding_dim, feature_dim)\n",
    "        self.linear2 = LinearBlock(word_embedding_dim, feature_dim)\n",
    "        self.linear3 = LinearBlock(2*feature_dim, feature_dim)\n",
    "        self.linear4 = nn.Linear(feature_dim, c)\n",
    "        \n",
    "    def forward(self, subj, obj):\n",
    "        subj = torch.squeeze(self.phrase_encoder(subj)[0][:,-1,:])\n",
    "        obj = torch.squeeze(self.phrase_encoder(obj)[0][:,-1,:])\n",
    "        \n",
    "        subj = self.linear1(subj)\n",
    "        obj  = self.linear2(obj)\n",
    "        \n",
    "        x = torch.cat((subj,obj), dim = 1)\n",
    "        x = self.linear4(self.linear3(x))\n",
    "        return x"
   ]
  },
  {
   "cell_type": "markdown",
   "id": "09071ff8",
   "metadata": {},
   "source": [
    "## training"
   ]
  },
  {
   "cell_type": "code",
   "execution_count": 8,
   "id": "f4ec9eec",
   "metadata": {},
   "outputs": [],
   "source": [
    "dls = DataLoaders(train_dl, valid_dl)\n",
    "dls.n_inp = 2\n",
    "model = SimpleLanguageOnlyModel(word_embedding_dim, 512, train_ds.c).cuda()\n",
    "learn = Learner(dls, model = model, loss_func = CrossEntropyLossFlat(), metrics = [accuracy,BalancedAccuracy()])"
   ]
  },
  {
   "cell_type": "code",
   "execution_count": 9,
   "id": "aaa19f24",
   "metadata": {},
   "outputs": [
    {
     "data": {
      "text/html": [
       "\n",
       "<style>\n",
       "    /* Turns off some styling */\n",
       "    progress {\n",
       "        /* gets rid of default border in Firefox and Opera. */\n",
       "        border: none;\n",
       "        /* Needs to be in here for Safari polyfill so background images work as expected. */\n",
       "        background-size: auto;\n",
       "    }\n",
       "    progress:not([value]), progress:not([value])::-webkit-progress-bar {\n",
       "        background: repeating-linear-gradient(45deg, #7e7e7e, #7e7e7e 10px, #5c5c5c 10px, #5c5c5c 20px);\n",
       "    }\n",
       "    .progress-bar-interrupted, .progress-bar-interrupted::-webkit-progress-bar {\n",
       "        background: #F44336;\n",
       "    }\n",
       "</style>\n"
      ],
      "text/plain": [
       "<IPython.core.display.HTML object>"
      ]
     },
     "metadata": {},
     "output_type": "display_data"
    },
    {
     "data": {
      "text/html": [
       "<table border=\"1\" class=\"dataframe\">\n",
       "  <thead>\n",
       "    <tr style=\"text-align: left;\">\n",
       "      <th>epoch</th>\n",
       "      <th>train_loss</th>\n",
       "      <th>valid_loss</th>\n",
       "      <th>accuracy</th>\n",
       "      <th>balanced_accuracy_score</th>\n",
       "      <th>time</th>\n",
       "    </tr>\n",
       "  </thead>\n",
       "  <tbody>\n",
       "    <tr>\n",
       "      <td>0</td>\n",
       "      <td>1.640934</td>\n",
       "      <td>1.563597</td>\n",
       "      <td>0.430469</td>\n",
       "      <td>0.310204</td>\n",
       "      <td>00:01</td>\n",
       "    </tr>\n",
       "    <tr>\n",
       "      <td>1</td>\n",
       "      <td>1.445088</td>\n",
       "      <td>1.538120</td>\n",
       "      <td>0.438281</td>\n",
       "      <td>0.323340</td>\n",
       "      <td>00:01</td>\n",
       "    </tr>\n",
       "    <tr>\n",
       "      <td>2</td>\n",
       "      <td>1.310785</td>\n",
       "      <td>1.531476</td>\n",
       "      <td>0.440625</td>\n",
       "      <td>0.341141</td>\n",
       "      <td>00:01</td>\n",
       "    </tr>\n",
       "    <tr>\n",
       "      <td>3</td>\n",
       "      <td>1.210801</td>\n",
       "      <td>1.536500</td>\n",
       "      <td>0.454688</td>\n",
       "      <td>0.354403</td>\n",
       "      <td>00:01</td>\n",
       "    </tr>\n",
       "    <tr>\n",
       "      <td>4</td>\n",
       "      <td>1.142441</td>\n",
       "      <td>1.538174</td>\n",
       "      <td>0.449219</td>\n",
       "      <td>0.357084</td>\n",
       "      <td>00:01</td>\n",
       "    </tr>\n",
       "    <tr>\n",
       "      <td>5</td>\n",
       "      <td>1.068168</td>\n",
       "      <td>1.577274</td>\n",
       "      <td>0.449219</td>\n",
       "      <td>0.366287</td>\n",
       "      <td>00:01</td>\n",
       "    </tr>\n",
       "    <tr>\n",
       "      <td>6</td>\n",
       "      <td>1.015014</td>\n",
       "      <td>1.598668</td>\n",
       "      <td>0.453125</td>\n",
       "      <td>0.363494</td>\n",
       "      <td>00:01</td>\n",
       "    </tr>\n",
       "    <tr>\n",
       "      <td>7</td>\n",
       "      <td>0.964645</td>\n",
       "      <td>1.620634</td>\n",
       "      <td>0.432031</td>\n",
       "      <td>0.356796</td>\n",
       "      <td>00:01</td>\n",
       "    </tr>\n",
       "    <tr>\n",
       "      <td>8</td>\n",
       "      <td>0.917249</td>\n",
       "      <td>1.651161</td>\n",
       "      <td>0.446094</td>\n",
       "      <td>0.362350</td>\n",
       "      <td>00:01</td>\n",
       "    </tr>\n",
       "    <tr>\n",
       "      <td>9</td>\n",
       "      <td>0.869659</td>\n",
       "      <td>1.690896</td>\n",
       "      <td>0.432813</td>\n",
       "      <td>0.356942</td>\n",
       "      <td>00:01</td>\n",
       "    </tr>\n",
       "  </tbody>\n",
       "</table>"
      ],
      "text/plain": [
       "<IPython.core.display.HTML object>"
      ]
     },
     "metadata": {},
     "output_type": "display_data"
    }
   ],
   "source": [
    "learn.fit(10, 1e-4)"
   ]
  },
  {
   "cell_type": "markdown",
   "id": "99d625dc",
   "metadata": {},
   "source": [
    "# Pretraining on STUPD"
   ]
  },
  {
   "cell_type": "code",
   "execution_count": 10,
   "id": "ceda4d35",
   "metadata": {},
   "outputs": [],
   "source": [
    "class stupd(Dataset):\n",
    "    def __init__(self,\n",
    "                 annotations_path = stupd_pth/'annotations', \n",
    "                 x_tfms: list = None,\n",
    "                 y_tfms: list = None):\n",
    "        \n",
    "        super().__init__()\n",
    "        self.subjects = [] #x1\n",
    "        self.objects = [] #x2\n",
    "        self.predicates = [] #y\n",
    "        \n",
    "        \n",
    "#         self.split = split\n",
    "#         if self.split is not None: assert split in ['train', 'valid', 'test'], f\"invalid selection of split. expected values = 'train', 'valid', 'test'\"\n",
    "        \n",
    "        self.classes = list(set(spatialsenses_to_stupd.values()))\n",
    "        self.class2idx = {cat:i for i,cat in enumerate(self.classes)}\n",
    "        self.idx2class = {self.class2idx[cat]:cat for cat in self.class2idx}\n",
    "        self.c = len(self.classes)\n",
    "        \n",
    "        self.x_tfms = list(x_tfms or [noop]) \n",
    "        self.y_tfms = list(y_tfms or [noop]) + [lambda y: self.class2idx[y]]\n",
    "        \n",
    "#         for relations in json.load(open(annotations_path)):\n",
    "#             if self.split and not relations[\"split\"] == split: continue\n",
    "#             for relation in relations['annotations']:\n",
    "#                 if not relation['label']: continue\n",
    "#                 self.subjects.append(relation['subject']['name'])\n",
    "#                 self.objects.append(relation['object']['name'])\n",
    "#                 self.predicates.append(relation['predicate'])\n",
    "        for annotations in annotations_path.iterdir():\n",
    "            \n",
    "            if annotations.stem not in spatialsenses_to_stupd.values(): continue\n",
    "            df = pd.read_csv(annotations).dropna()\n",
    "            for i,row in df.iterrows():\n",
    "#                 print(row['subject_category'], math.isnan(row['subject_category']))\n",
    "#                 if not row['subject_category'] or not row['object_category']: continue\n",
    "                self.subjects.append(row['subject_category'] + ' ' + row['subject_supercategory'])\n",
    "                self.objects.append(row['object_category'] + ' ' + row['object_supercategory'])\n",
    "                self.predicates.append(annotations.stem)\n",
    "                \n",
    "    \n",
    "    def __len__(self): return len(self.subjects)\n",
    "    \n",
    "    def __getitem__(self, i):\n",
    "        subj = self.apply_tfms(self.subjects[i], self.x_tfms)\n",
    "        obj =  self.apply_tfms(self.objects[i] , self.x_tfms)\n",
    "        predicate = self.apply_tfms(self.predicates[i], self.y_tfms)\n",
    "        \n",
    "        return (torch.Tensor(subj).type(torch.cuda.FloatTensor), \n",
    "                torch.Tensor(obj).type(torch.cuda.FloatTensor), \n",
    "                torch.Tensor([predicate]).type(torch.cuda.LongTensor))\n",
    "\n",
    "    def apply_tfms(self, o, tfms):\n",
    "        for tfm in tfms: o = tfm(o)\n",
    "        return o"
   ]
  },
  {
   "cell_type": "code",
   "execution_count": 11,
   "id": "59eef350",
   "metadata": {},
   "outputs": [
    {
     "data": {
      "text/plain": [
       "34313"
      ]
     },
     "execution_count": 11,
     "metadata": {},
     "output_type": "execute_result"
    }
   ],
   "source": [
    "max_phrase_len = 3 #subjects/objects can be mutliple words. eg - microwave oven. max_phrase_len decides how many words are used to create embeddings\n",
    "word_embedding_dim = 300 #decides the dimension of the feature each word is converted into\n",
    "\n",
    "embedding = partial(phrase2vec, max_phrase_len = max_phrase_len, word_embedding_dim = word_embedding_dim)\n",
    "\n",
    "ds = stupd(x_tfms = [embedding],\n",
    "                 y_tfms = None)\n",
    "\n",
    "len(ds)"
   ]
  },
  {
   "cell_type": "code",
   "execution_count": 12,
   "id": "5962bf22",
   "metadata": {},
   "outputs": [
    {
     "data": {
      "text/plain": [
       "(27450, 6863)"
      ]
     },
     "execution_count": 12,
     "metadata": {},
     "output_type": "execute_result"
    }
   ],
   "source": [
    "train_split = 0.8\n",
    "train_ds, valid_ds = torch.utils.data.random_split(ds, [int(len(ds)*train_split), len(ds) - int(len(ds)*train_split)])\n",
    "train_ds.c, valid_ds.c = 7,7\n",
    "\n",
    "len(train_ds), len(valid_ds)"
   ]
  },
  {
   "cell_type": "code",
   "execution_count": 13,
   "id": "4eae8af7",
   "metadata": {},
   "outputs": [],
   "source": [
    "train_dl = DataLoader(train_ds, batch_size =64 , shuffle = True)\n",
    "valid_dl = DataLoader(valid_ds, batch_size = 128 , shuffle = False)"
   ]
  },
  {
   "cell_type": "code",
   "execution_count": 14,
   "id": "c0d72930",
   "metadata": {},
   "outputs": [],
   "source": [
    "dls = DataLoaders(train_dl, valid_dl)\n",
    "dls.n_inp = 2\n",
    "model = SimpleLanguageOnlyModel(word_embedding_dim, 512, train_ds.c).cuda()\n",
    "learn = Learner(dls, model = model, loss_func = CrossEntropyLossFlat(), metrics = [accuracy,BalancedAccuracy()])"
   ]
  },
  {
   "cell_type": "code",
   "execution_count": 15,
   "id": "7337a81f",
   "metadata": {},
   "outputs": [
    {
     "data": {
      "text/html": [
       "\n",
       "<style>\n",
       "    /* Turns off some styling */\n",
       "    progress {\n",
       "        /* gets rid of default border in Firefox and Opera. */\n",
       "        border: none;\n",
       "        /* Needs to be in here for Safari polyfill so background images work as expected. */\n",
       "        background-size: auto;\n",
       "    }\n",
       "    progress:not([value]), progress:not([value])::-webkit-progress-bar {\n",
       "        background: repeating-linear-gradient(45deg, #7e7e7e, #7e7e7e 10px, #5c5c5c 10px, #5c5c5c 20px);\n",
       "    }\n",
       "    .progress-bar-interrupted, .progress-bar-interrupted::-webkit-progress-bar {\n",
       "        background: #F44336;\n",
       "    }\n",
       "</style>\n"
      ],
      "text/plain": [
       "<IPython.core.display.HTML object>"
      ]
     },
     "metadata": {},
     "output_type": "display_data"
    },
    {
     "data": {
      "text/html": [],
      "text/plain": [
       "<IPython.core.display.HTML object>"
      ]
     },
     "metadata": {},
     "output_type": "display_data"
    },
    {
     "data": {
      "text/plain": [
       "SuggestedLRs(valley=0.0004786300996784121)"
      ]
     },
     "execution_count": 15,
     "metadata": {},
     "output_type": "execute_result"
    },
    {
     "data": {
      "image/png": "[encoded data removed]",
      "text/plain": [
       "<Figure size 432x288 with 1 Axes>"
      ]
     },
     "metadata": {
      "needs_background": "light"
     },
     "output_type": "display_data"
    }
   ],
   "source": [
    "learn.lr_find()"
   ]
  },
  {
   "cell_type": "code",
   "execution_count": 16,
   "id": "9ed9b170",
   "metadata": {},
   "outputs": [
    {
     "data": {
      "text/html": [
       "\n",
       "<style>\n",
       "    /* Turns off some styling */\n",
       "    progress {\n",
       "        /* gets rid of default border in Firefox and Opera. */\n",
       "        border: none;\n",
       "        /* Needs to be in here for Safari polyfill so background images work as expected. */\n",
       "        background-size: auto;\n",
       "    }\n",
       "    progress:not([value]), progress:not([value])::-webkit-progress-bar {\n",
       "        background: repeating-linear-gradient(45deg, #7e7e7e, #7e7e7e 10px, #5c5c5c 10px, #5c5c5c 20px);\n",
       "    }\n",
       "    .progress-bar-interrupted, .progress-bar-interrupted::-webkit-progress-bar {\n",
       "        background: #F44336;\n",
       "    }\n",
       "</style>\n"
      ],
      "text/plain": [
       "<IPython.core.display.HTML object>"
      ]
     },
     "metadata": {},
     "output_type": "display_data"
    },
    {
     "data": {
      "text/html": [
       "<table border=\"1\" class=\"dataframe\">\n",
       "  <thead>\n",
       "    <tr style=\"text-align: left;\">\n",
       "      <th>epoch</th>\n",
       "      <th>train_loss</th>\n",
       "      <th>valid_loss</th>\n",
       "      <th>accuracy</th>\n",
       "      <th>balanced_accuracy_score</th>\n",
       "      <th>time</th>\n",
       "    </tr>\n",
       "  </thead>\n",
       "  <tbody>\n",
       "    <tr>\n",
       "      <td>0</td>\n",
       "      <td>1.392758</td>\n",
       "      <td>1.353980</td>\n",
       "      <td>0.364855</td>\n",
       "      <td>0.363772</td>\n",
       "      <td>00:06</td>\n",
       "    </tr>\n",
       "    <tr>\n",
       "      <td>1</td>\n",
       "      <td>1.334508</td>\n",
       "      <td>1.316863</td>\n",
       "      <td>0.386420</td>\n",
       "      <td>0.385081</td>\n",
       "      <td>00:06</td>\n",
       "    </tr>\n",
       "    <tr>\n",
       "      <td>2</td>\n",
       "      <td>1.316514</td>\n",
       "      <td>1.309077</td>\n",
       "      <td>0.387877</td>\n",
       "      <td>0.385560</td>\n",
       "      <td>00:06</td>\n",
       "    </tr>\n",
       "    <tr>\n",
       "      <td>3</td>\n",
       "      <td>1.312311</td>\n",
       "      <td>1.298863</td>\n",
       "      <td>0.391083</td>\n",
       "      <td>0.388087</td>\n",
       "      <td>00:06</td>\n",
       "    </tr>\n",
       "    <tr>\n",
       "      <td>4</td>\n",
       "      <td>1.309101</td>\n",
       "      <td>1.293413</td>\n",
       "      <td>0.391957</td>\n",
       "      <td>0.388772</td>\n",
       "      <td>00:06</td>\n",
       "    </tr>\n",
       "    <tr>\n",
       "      <td>5</td>\n",
       "      <td>1.304109</td>\n",
       "      <td>1.289163</td>\n",
       "      <td>0.393851</td>\n",
       "      <td>0.391761</td>\n",
       "      <td>00:06</td>\n",
       "    </tr>\n",
       "    <tr>\n",
       "      <td>6</td>\n",
       "      <td>1.296915</td>\n",
       "      <td>1.287882</td>\n",
       "      <td>0.392977</td>\n",
       "      <td>0.391397</td>\n",
       "      <td>00:06</td>\n",
       "    </tr>\n",
       "    <tr>\n",
       "      <td>7</td>\n",
       "      <td>1.286490</td>\n",
       "      <td>1.283885</td>\n",
       "      <td>0.399534</td>\n",
       "      <td>0.397290</td>\n",
       "      <td>00:06</td>\n",
       "    </tr>\n",
       "    <tr>\n",
       "      <td>8</td>\n",
       "      <td>1.282871</td>\n",
       "      <td>1.282739</td>\n",
       "      <td>0.401719</td>\n",
       "      <td>0.399603</td>\n",
       "      <td>00:06</td>\n",
       "    </tr>\n",
       "    <tr>\n",
       "      <td>9</td>\n",
       "      <td>1.281986</td>\n",
       "      <td>1.282832</td>\n",
       "      <td>0.403905</td>\n",
       "      <td>0.401537</td>\n",
       "      <td>00:06</td>\n",
       "    </tr>\n",
       "  </tbody>\n",
       "</table>"
      ],
      "text/plain": [
       "<IPython.core.display.HTML object>"
      ]
     },
     "metadata": {},
     "output_type": "display_data"
    }
   ],
   "source": [
    "learn.fit_one_cycle(10, 1e-4)"
   ]
  },
  {
   "cell_type": "markdown",
   "id": "84ba195c",
   "metadata": {},
   "source": [
    "### Now transfer learning"
   ]
  },
  {
   "cell_type": "code",
   "execution_count": 17,
   "id": "a708e69e",
   "metadata": {},
   "outputs": [
    {
     "data": {
      "text/plain": [
       "(5619, 1319)"
      ]
     },
     "execution_count": 17,
     "metadata": {},
     "output_type": "execute_result"
    }
   ],
   "source": [
    "max_phrase_len = 2 #subjects/objects can be mutliple words. eg - microwave oven. max_phrase_len decides how many words are used to create embeddings\n",
    "word_embedding_dim = 300 #decides the dimension of the feature each word is converted into\n",
    "\n",
    "embedding = partial(phrase2vec, max_phrase_len = max_phrase_len, word_embedding_dim = word_embedding_dim)\n",
    "\n",
    "train_ds_spatialsenses = SpatialDataset(split = 'train',\n",
    "                         x_tfms = [embedding],\n",
    "                         y_tfms = [map_spatialsenses_to_stupd])\n",
    "\n",
    "valid_ds_spatialsenses = SpatialDataset(split = 'valid',\n",
    "                         x_tfms = [embedding],\n",
    "                         y_tfms = [map_spatialsenses_to_stupd])\n",
    "\n",
    "len(train_ds_spatialsenses),len(valid_ds_spatialsenses)"
   ]
  },
  {
   "cell_type": "code",
   "execution_count": 18,
   "id": "a9bac3a5",
   "metadata": {},
   "outputs": [],
   "source": [
    "train_dl_spatialsenses = DataLoader(train_ds_spatialsenses, batch_size =64 , shuffle = True)\n",
    "valid_dl_spatialsenses = DataLoader(valid_ds_spatialsenses, batch_size = 128 , shuffle = False)"
   ]
  },
  {
   "cell_type": "code",
   "execution_count": 19,
   "id": "c80cd8e0",
   "metadata": {},
   "outputs": [],
   "source": [
    "learn = Learner(dls, model = model, loss_func = CrossEntropyLossFlat(), metrics = [accuracy,BalancedAccuracy()])\n",
    "# learn.freeze_to(-2)"
   ]
  },
  {
   "cell_type": "code",
   "execution_count": 20,
   "id": "411c6724",
   "metadata": {},
   "outputs": [
    {
     "data": {
      "text/html": [
       "\n",
       "<style>\n",
       "    /* Turns off some styling */\n",
       "    progress {\n",
       "        /* gets rid of default border in Firefox and Opera. */\n",
       "        border: none;\n",
       "        /* Needs to be in here for Safari polyfill so background images work as expected. */\n",
       "        background-size: auto;\n",
       "    }\n",
       "    progress:not([value]), progress:not([value])::-webkit-progress-bar {\n",
       "        background: repeating-linear-gradient(45deg, #7e7e7e, #7e7e7e 10px, #5c5c5c 10px, #5c5c5c 20px);\n",
       "    }\n",
       "    .progress-bar-interrupted, .progress-bar-interrupted::-webkit-progress-bar {\n",
       "        background: #F44336;\n",
       "    }\n",
       "</style>\n"
      ],
      "text/plain": [
       "<IPython.core.display.HTML object>"
      ]
     },
     "metadata": {},
     "output_type": "display_data"
    },
    {
     "data": {
      "text/html": [],
      "text/plain": [
       "<IPython.core.display.HTML object>"
      ]
     },
     "metadata": {},
     "output_type": "display_data"
    },
    {
     "data": {
      "text/plain": [
       "SuggestedLRs(valley=9.120108734350652e-05)"
      ]
     },
     "execution_count": 20,
     "metadata": {},
     "output_type": "execute_result"
    },
    {
     "data": {
      "image/png": "[encoded data removed]",
      "text/plain": [
       "<Figure size 432x288 with 1 Axes>"
      ]
     },
     "metadata": {
      "needs_background": "light"
     },
     "output_type": "display_data"
    }
   ],
   "source": [
    "learn.lr_find()"
   ]
  },
  {
   "cell_type": "code",
   "execution_count": 21,
   "id": "cfd79338",
   "metadata": {},
   "outputs": [
    {
     "data": {
      "text/html": [
       "\n",
       "<style>\n",
       "    /* Turns off some styling */\n",
       "    progress {\n",
       "        /* gets rid of default border in Firefox and Opera. */\n",
       "        border: none;\n",
       "        /* Needs to be in here for Safari polyfill so background images work as expected. */\n",
       "        background-size: auto;\n",
       "    }\n",
       "    progress:not([value]), progress:not([value])::-webkit-progress-bar {\n",
       "        background: repeating-linear-gradient(45deg, #7e7e7e, #7e7e7e 10px, #5c5c5c 10px, #5c5c5c 20px);\n",
       "    }\n",
       "    .progress-bar-interrupted, .progress-bar-interrupted::-webkit-progress-bar {\n",
       "        background: #F44336;\n",
       "    }\n",
       "</style>\n"
      ],
      "text/plain": [
       "<IPython.core.display.HTML object>"
      ]
     },
     "metadata": {},
     "output_type": "display_data"
    },
    {
     "data": {
      "text/html": [
       "<table border=\"1\" class=\"dataframe\">\n",
       "  <thead>\n",
       "    <tr style=\"text-align: left;\">\n",
       "      <th>epoch</th>\n",
       "      <th>train_loss</th>\n",
       "      <th>valid_loss</th>\n",
       "      <th>accuracy</th>\n",
       "      <th>balanced_accuracy_score</th>\n",
       "      <th>time</th>\n",
       "    </tr>\n",
       "  </thead>\n",
       "  <tbody>\n",
       "    <tr>\n",
       "      <td>0</td>\n",
       "      <td>1.280499</td>\n",
       "      <td>1.282566</td>\n",
       "      <td>0.402448</td>\n",
       "      <td>0.400207</td>\n",
       "      <td>00:06</td>\n",
       "    </tr>\n",
       "    <tr>\n",
       "      <td>1</td>\n",
       "      <td>1.281304</td>\n",
       "      <td>1.282712</td>\n",
       "      <td>0.400699</td>\n",
       "      <td>0.398453</td>\n",
       "      <td>00:06</td>\n",
       "    </tr>\n",
       "    <tr>\n",
       "      <td>2</td>\n",
       "      <td>1.292095</td>\n",
       "      <td>1.283208</td>\n",
       "      <td>0.400991</td>\n",
       "      <td>0.398461</td>\n",
       "      <td>00:06</td>\n",
       "    </tr>\n",
       "    <tr>\n",
       "      <td>3</td>\n",
       "      <td>1.274830</td>\n",
       "      <td>1.283049</td>\n",
       "      <td>0.402302</td>\n",
       "      <td>0.399618</td>\n",
       "      <td>00:06</td>\n",
       "    </tr>\n",
       "    <tr>\n",
       "      <td>4</td>\n",
       "      <td>1.276200</td>\n",
       "      <td>1.282363</td>\n",
       "      <td>0.400117</td>\n",
       "      <td>0.397474</td>\n",
       "      <td>00:06</td>\n",
       "    </tr>\n",
       "    <tr>\n",
       "      <td>5</td>\n",
       "      <td>1.269681</td>\n",
       "      <td>1.282304</td>\n",
       "      <td>0.400845</td>\n",
       "      <td>0.398345</td>\n",
       "      <td>00:06</td>\n",
       "    </tr>\n",
       "    <tr>\n",
       "      <td>6</td>\n",
       "      <td>1.283493</td>\n",
       "      <td>1.282483</td>\n",
       "      <td>0.398951</td>\n",
       "      <td>0.396930</td>\n",
       "      <td>00:06</td>\n",
       "    </tr>\n",
       "    <tr>\n",
       "      <td>7</td>\n",
       "      <td>1.279635</td>\n",
       "      <td>1.282291</td>\n",
       "      <td>0.398077</td>\n",
       "      <td>0.395390</td>\n",
       "      <td>00:06</td>\n",
       "    </tr>\n",
       "    <tr>\n",
       "      <td>8</td>\n",
       "      <td>1.277481</td>\n",
       "      <td>1.281887</td>\n",
       "      <td>0.397785</td>\n",
       "      <td>0.395027</td>\n",
       "      <td>00:06</td>\n",
       "    </tr>\n",
       "    <tr>\n",
       "      <td>9</td>\n",
       "      <td>1.268634</td>\n",
       "      <td>1.282565</td>\n",
       "      <td>0.399825</td>\n",
       "      <td>0.397856</td>\n",
       "      <td>00:06</td>\n",
       "    </tr>\n",
       "  </tbody>\n",
       "</table>"
      ],
      "text/plain": [
       "<IPython.core.display.HTML object>"
      ]
     },
     "metadata": {},
     "output_type": "display_data"
    }
   ],
   "source": [
    "learn.fit_one_cycle(10, 1e-5)"
   ]
  },
  {
   "cell_type": "code",
   "execution_count": null,
   "id": "96238aee",
   "metadata": {},
   "outputs": [],
   "source": []
  }
 ],
 "metadata": {
  "kernelspec": {
   "display_name": "Python 3",
   "language": "python",
   "name": "python3"
  },
  "language_info": {
   "codemirror_mode": {
    "name": "ipython",
    "version": 3
   },
   "file_extension": ".py",
   "mimetype": "text/x-python",
   "name": "python",
   "nbconvert_exporter": "python",
   "pygments_lexer": "ipython3",
   "version": "3.8.10"
  }
 },
 "nbformat": 4,
 "nbformat_minor": 5
}
