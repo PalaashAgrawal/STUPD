{
 "cells": [
  {
   "cell_type": "code",
   "execution_count": 1,
   "id": "89633fcc",
   "metadata": {},
   "outputs": [],
   "source": [
    "%load_ext autoreload\n",
    "%autoreload 2"
   ]
  },
  {
   "cell_type": "code",
   "execution_count": 2,
   "id": "17969fce",
   "metadata": {},
   "outputs": [],
   "source": [
    "import torch\n",
    "from fastai.distributed import *\n",
    "from fastai.vision.all import *\n",
    "from pathlib import Path\n",
    "\n",
    "module_path = Path('../../baselines').resolve(); assert module_path.exists()\n",
    "\n",
    "if module_path not in sys.path: sys.path.append(str(module_path))"
   ]
  },
  {
   "cell_type": "code",
   "execution_count": 3,
   "id": "7fef4330",
   "metadata": {},
   "outputs": [
    {
     "data": {
      "text/plain": [
       "Path('/home/agrawalp2/prepositions/experiments/baselines')"
      ]
     },
     "execution_count": 3,
     "metadata": {},
     "output_type": "execute_result"
    }
   ],
   "source": [
    "module_path"
   ]
  },
  {
   "cell_type": "code",
   "execution_count": 4,
   "id": "6c43f3ac",
   "metadata": {},
   "outputs": [],
   "source": [
    "device = torch.device('cuda:0')\n",
    "core_pth = Path('/home/agrawalp2/prepositions'); assert core_pth.exists()\n",
    "\n",
    "vidvrd_path = core_pth/Path('real_world_data/vidvrd/vidvrd-dataset'); assert vidvrd_path.exists()\n",
    "encoder_path = core_pth/Path('experiments/baselines/models/encoder/GoogleNews-vectors-negative300.bin.gz'); assert encoder_path.exists()\n",
    "stupd_path = Path('/data/dataset/agrawalp2/stupd/stupd_dataset'); assert stupd_path.exists()\n",
    "\n",
    "\n",
    "spatialsenses_pth = core_pth/Path('real_world_data/spatialsense'); assert spatialsenses_pth.exists()\n"
   ]
  },
  {
   "cell_type": "code",
   "execution_count": 5,
   "id": "1d1a42cf",
   "metadata": {},
   "outputs": [],
   "source": [
    "from pretraining_dataloaders.stupd.spatialsense.languageOnlyDataset import languageOnlyDataset\n",
    "from pretraining_dataloaders.stupd.spatialsense.utils import split_dataset\n",
    "from models.static.language_only import SimpleLanguageOnlyModel"
   ]
  },
  {
   "cell_type": "code",
   "execution_count": 6,
   "id": "3d44f713",
   "metadata": {},
   "outputs": [],
   "source": [
    "ds = languageOnlyDataset(stupd_path/'annotations', encoder_path)\n",
    "train_ds, valid_ds = split_dataset(ds, pct = 0.8)\n",
    "\n",
    "train_dl = DataLoader(train_ds, batch_size =64 , shuffle = True, drop_last = True)\n",
    "valid_dl = DataLoader(valid_ds, batch_size = 128 , shuffle = True, drop_last = True)"
   ]
  },
  {
   "cell_type": "code",
   "execution_count": 7,
   "id": "a04e9bea",
   "metadata": {},
   "outputs": [],
   "source": [
    "dls = DataLoaders(train_dl, valid_dl)\n",
    "dls.n_inp = 2\n",
    "model = SimpleLanguageOnlyModel(word_embedding_dim=300, feature_dim=512, c=train_ds.c).cuda()\n",
    "learn = Learner(dls, model = model, loss_func = CrossEntropyLossFlat(), metrics = [accuracy,BalancedAccuracy()],\n",
    "               path = core_pth/'experiments/baselines/weights',\n",
    "               model_dir = 'languageOnly',\n",
    "               )"
   ]
  },
  {
   "cell_type": "code",
   "execution_count": 8,
   "id": "36cbeafd",
   "metadata": {},
   "outputs": [
    {
     "data": {
      "text/html": [
       "\n",
       "<style>\n",
       "    /* Turns off some styling */\n",
       "    progress {\n",
       "        /* gets rid of default border in Firefox and Opera. */\n",
       "        border: none;\n",
       "        /* Needs to be in here for Safari polyfill so background images work as expected. */\n",
       "        background-size: auto;\n",
       "    }\n",
       "    progress:not([value]), progress:not([value])::-webkit-progress-bar {\n",
       "        background: repeating-linear-gradient(45deg, #7e7e7e, #7e7e7e 10px, #5c5c5c 10px, #5c5c5c 20px);\n",
       "    }\n",
       "    .progress-bar-interrupted, .progress-bar-interrupted::-webkit-progress-bar {\n",
       "        background: #F44336;\n",
       "    }\n",
       "</style>\n"
      ],
      "text/plain": [
       "<IPython.core.display.HTML object>"
      ]
     },
     "metadata": {},
     "output_type": "display_data"
    },
    {
     "data": {
      "text/html": [
       "<table border=\"1\" class=\"dataframe\">\n",
       "  <thead>\n",
       "    <tr style=\"text-align: left;\">\n",
       "      <th>epoch</th>\n",
       "      <th>train_loss</th>\n",
       "      <th>valid_loss</th>\n",
       "      <th>accuracy</th>\n",
       "      <th>balanced_accuracy_score</th>\n",
       "      <th>time</th>\n",
       "    </tr>\n",
       "  </thead>\n",
       "  <tbody>\n",
       "    <tr>\n",
       "      <td>0</td>\n",
       "      <td>1.326436</td>\n",
       "      <td>1.342949</td>\n",
       "      <td>0.382523</td>\n",
       "      <td>0.387592</td>\n",
       "      <td>00:08</td>\n",
       "    </tr>\n",
       "    <tr>\n",
       "      <td>1</td>\n",
       "      <td>1.283688</td>\n",
       "      <td>1.274017</td>\n",
       "      <td>0.399884</td>\n",
       "      <td>0.404015</td>\n",
       "      <td>00:08</td>\n",
       "    </tr>\n",
       "  </tbody>\n",
       "</table>"
      ],
      "text/plain": [
       "<IPython.core.display.HTML object>"
      ]
     },
     "metadata": {},
     "output_type": "display_data"
    }
   ],
   "source": [
    "learn.fit_one_cycle(2)"
   ]
  },
  {
   "cell_type": "code",
   "execution_count": 9,
   "id": "f4a4c1d5",
   "metadata": {},
   "outputs": [
    {
     "data": {
      "text/plain": [
       "Path('/home/agrawalp2/prepositions/experiments/baselines/weights/languageOnly/scratch_finetuneStupd.pth')"
      ]
     },
     "execution_count": 9,
     "metadata": {},
     "output_type": "execute_result"
    }
   ],
   "source": [
    "learn.save('scratch_finetuneStupd')"
   ]
  },
  {
   "cell_type": "code",
   "execution_count": 10,
   "id": "50fce2fc",
   "metadata": {},
   "outputs": [],
   "source": [
    "from dataloaders.spatialsense.languageOnlyDataset import languageOnlyDataset\n",
    "from dataloaders.spatialsense.utils import  map_spatialsenses_to_stupd"
   ]
  },
  {
   "cell_type": "code",
   "execution_count": 11,
   "id": "a20aca0b",
   "metadata": {},
   "outputs": [],
   "source": [
    "\n",
    "train_ds = languageOnlyDataset(annotations_path = spatialsenses_pth/'annotations.json',\n",
    "                               split = 'train',\n",
    "                               encoder_path = encoder_path,\n",
    "                               x_tfms = None, \n",
    "                               y_tfms = [map_spatialsenses_to_stupd],)\n",
    "\n",
    "valid_ds = languageOnlyDataset(annotations_path = spatialsenses_pth/'annotations.json',\n",
    "                               split = 'valid',\n",
    "                               encoder_path = encoder_path,\n",
    "                               x_tfms = None,\n",
    "                               y_tfms = [map_spatialsenses_to_stupd])"
   ]
  },
  {
   "cell_type": "code",
   "execution_count": 12,
   "id": "4a7dc4c7",
   "metadata": {},
   "outputs": [],
   "source": [
    "train_dl = DataLoader(train_ds, batch_size =64 , shuffle = True, drop_last = True)\n",
    "valid_dl = DataLoader(valid_ds, batch_size = 128 , shuffle = True, drop_last = True)"
   ]
  },
  {
   "cell_type": "code",
   "execution_count": 13,
   "id": "07f1b1e9",
   "metadata": {},
   "outputs": [],
   "source": [
    "dls = DataLoaders(train_dl, valid_dl)\n",
    "dls.n_inp = 2\n",
    "model = SimpleLanguageOnlyModel(word_embedding_dim=300, feature_dim=512, c=train_ds.c).cuda()\n",
    "learn = Learner(dls, model = model, loss_func = CrossEntropyLossFlat(), metrics = [accuracy,BalancedAccuracy()],\n",
    "               path = core_pth/'experiments/baselines/weights',\n",
    "               model_dir = 'languageOnly',)"
   ]
  },
  {
   "cell_type": "code",
   "execution_count": 16,
   "id": "296b9cdc",
   "metadata": {},
   "outputs": [
    {
     "data": {
      "text/plain": [
       "<fastai.learner.Learner at 0x7f325c8adee0>"
      ]
     },
     "execution_count": 16,
     "metadata": {},
     "output_type": "execute_result"
    }
   ],
   "source": [
    "learn.load('scratch_finetuneStupd', device = device)"
   ]
  },
  {
   "cell_type": "code",
   "execution_count": 17,
   "id": "42c071ea",
   "metadata": {},
   "outputs": [
    {
     "data": {
      "text/html": [
       "\n",
       "<style>\n",
       "    /* Turns off some styling */\n",
       "    progress {\n",
       "        /* gets rid of default border in Firefox and Opera. */\n",
       "        border: none;\n",
       "        /* Needs to be in here for Safari polyfill so background images work as expected. */\n",
       "        background-size: auto;\n",
       "    }\n",
       "    progress:not([value]), progress:not([value])::-webkit-progress-bar {\n",
       "        background: repeating-linear-gradient(45deg, #7e7e7e, #7e7e7e 10px, #5c5c5c 10px, #5c5c5c 20px);\n",
       "    }\n",
       "    .progress-bar-interrupted, .progress-bar-interrupted::-webkit-progress-bar {\n",
       "        background: #F44336;\n",
       "    }\n",
       "</style>\n"
      ],
      "text/plain": [
       "<IPython.core.display.HTML object>"
      ]
     },
     "metadata": {},
     "output_type": "display_data"
    },
    {
     "data": {
      "text/html": [
       "<table border=\"1\" class=\"dataframe\">\n",
       "  <thead>\n",
       "    <tr style=\"text-align: left;\">\n",
       "      <th>epoch</th>\n",
       "      <th>train_loss</th>\n",
       "      <th>valid_loss</th>\n",
       "      <th>accuracy</th>\n",
       "      <th>balanced_accuracy_score</th>\n",
       "      <th>time</th>\n",
       "    </tr>\n",
       "  </thead>\n",
       "  <tbody>\n",
       "    <tr>\n",
       "      <td>0</td>\n",
       "      <td>1.691085</td>\n",
       "      <td>1.571814</td>\n",
       "      <td>0.401563</td>\n",
       "      <td>0.285310</td>\n",
       "      <td>00:01</td>\n",
       "    </tr>\n",
       "    <tr>\n",
       "      <td>1</td>\n",
       "      <td>1.507867</td>\n",
       "      <td>1.551732</td>\n",
       "      <td>0.418750</td>\n",
       "      <td>0.329991</td>\n",
       "      <td>00:01</td>\n",
       "    </tr>\n",
       "    <tr>\n",
       "      <td>2</td>\n",
       "      <td>1.391761</td>\n",
       "      <td>1.555239</td>\n",
       "      <td>0.449219</td>\n",
       "      <td>0.357878</td>\n",
       "      <td>00:01</td>\n",
       "    </tr>\n",
       "    <tr>\n",
       "      <td>3</td>\n",
       "      <td>1.290512</td>\n",
       "      <td>1.609280</td>\n",
       "      <td>0.438281</td>\n",
       "      <td>0.357787</td>\n",
       "      <td>00:01</td>\n",
       "    </tr>\n",
       "    <tr>\n",
       "      <td>4</td>\n",
       "      <td>1.184857</td>\n",
       "      <td>1.667590</td>\n",
       "      <td>0.427344</td>\n",
       "      <td>0.363479</td>\n",
       "      <td>00:01</td>\n",
       "    </tr>\n",
       "  </tbody>\n",
       "</table>"
      ],
      "text/plain": [
       "<IPython.core.display.HTML object>"
      ]
     },
     "metadata": {},
     "output_type": "display_data"
    }
   ],
   "source": [
    "learn.fit(5)"
   ]
  },
  {
   "cell_type": "code",
   "execution_count": null,
   "id": "78b89fb9",
   "metadata": {},
   "outputs": [],
   "source": []
  }
 ],
 "metadata": {
  "kernelspec": {
   "display_name": "Python 3",
   "language": "python",
   "name": "python3"
  },
  "language_info": {
   "codemirror_mode": {
    "name": "ipython",
    "version": 3
   },
   "file_extension": ".py",
   "mimetype": "text/x-python",
   "name": "python",
   "nbconvert_exporter": "python",
   "pygments_lexer": "ipython3",
   "version": "3.9.16"
  }
 },
 "nbformat": 4,
 "nbformat_minor": 5
}
