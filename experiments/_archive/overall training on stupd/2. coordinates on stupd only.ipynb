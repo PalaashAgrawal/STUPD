{
 "cells": [
  {
   "cell_type": "code",
   "execution_count": 1,
   "id": "14e875a7",
   "metadata": {},
   "outputs": [],
   "source": [
    "import torch\n",
    "from torch.utils.data import Dataset\n",
    "from torch import nn\n",
    "import torch.nn.functional as F\n",
    "\n",
    "from fastai.distributed import *\n",
    "from fastai.vision.all import *\n",
    "\n",
    "from pathlib import Path\n",
    "from functools import partial\n",
    "import json\n",
    "import pandas as pd\n",
    "import matplotlib.pyplot as plt\n",
    "import math\n",
    "\n",
    "import ast"
   ]
  },
  {
   "cell_type": "code",
   "execution_count": 2,
   "id": "4fda8362",
   "metadata": {},
   "outputs": [],
   "source": [
    "device = torch.device('cuda:0')\n",
    "core_pth = Path('/home/agrawalp2/prepositions'); assert core_pth.exists()\n",
    "stupd_pth = Path('/mnt/dataset/agrawalp2/stupd_dataset'); assert stupd_pth.exists()"
   ]
  },
  {
   "cell_type": "code",
   "execution_count": 3,
   "id": "e9d8f87c",
   "metadata": {},
   "outputs": [],
   "source": [
    "# def map_spatialsenses_to_stupd(o, mapping_dict = spatialsenses_to_stupd):\n",
    "#     return spatialsenses_to_stupd[o]\n",
    "\n",
    "def is_static(x):\n",
    "    static_preps = ['above', 'against_leaning', 'all_over', 'along_position', 'among', 'around_static', \n",
    "                   'behind', 'below', 'beside', 'between', 'in_front_of', 'inside', 'on', 'outside']\n",
    "    \n",
    "    dynamic_preps = ['against', 'along', 'around', 'by', 'down', 'from', 'into', 'into_crash', 'off', 'onto', 'out_of', 'over', 'through', 'towards', 'up', 'with']\n",
    "    \n",
    "    if x in static_preps: return True\n",
    "    elif x in dynamic_preps: return False\n",
    "    else: raise Exception(\"invalid relation input\")\n",
    "\n",
    "def noop(x): return x"
   ]
  },
  {
   "cell_type": "markdown",
   "id": "1a4003f5",
   "metadata": {},
   "source": [
    "# Data"
   ]
  },
  {
   "cell_type": "code",
   "execution_count": 4,
   "id": "bd8f9811",
   "metadata": {},
   "outputs": [],
   "source": [
    "def convert_stupd_bbox_to_spatialsense_bbox(bbox):\n",
    "    #stupd bbox format = wmin, hmin, w, h\n",
    "    #spatialsenses bbox format = hmin, hmax, wmin, wmax\n",
    "    \n",
    "    wmin, hmin, w,h = bbox\n",
    "    return (hmin, hmin+h, wmin, wmin+w)"
   ]
  },
  {
   "cell_type": "code",
   "execution_count": 5,
   "id": "05c1a678",
   "metadata": {},
   "outputs": [],
   "source": [
    "class stupd(Dataset):\n",
    "    def __init__(self, \n",
    "                 annotations_path = stupd_pth/'annotations', \n",
    "                 x_tfms: list = None,\n",
    "                 y_tfms: list = None,\n",
    "                 frames_per_vid=10,\n",
    "                ):\n",
    "        \n",
    "        f'''\n",
    "        frames_per_vid: how many frames to consider per video for a data sample x. \n",
    "                        Per video, frames_per_vid images will be returned, using a sampling. Eg, if sampling = 'uniform', 10 uniformly spaced images will be returned. \n",
    "        \n",
    "        '''\n",
    "        \n",
    "        super().__init__()\n",
    "        \n",
    "        self.frames_per_vid = frames_per_vid #only the last frames_per_vid \n",
    "\n",
    "        self.coords = []\n",
    "        self.predicates = [] #y\n",
    "        \n",
    "        \n",
    "        self.classes = set()\n",
    "        \n",
    "        \n",
    "        self.x_tfms = list(x_tfms or [noop]) \n",
    "        self.y_tfms = list(y_tfms or [noop]) + [lambda y: self.class2idx[y]]\n",
    "\n",
    "        for annotations in annotations_path.iterdir():\n",
    "            \n",
    "            if annotations.suffix!=\".csv\": continue\n",
    "            df = self._process_df(pd.read_csv(annotations))\n",
    "            \n",
    "            for i,row in df.iterrows():\n",
    "\n",
    "                subj_3dcoords = ast.literal_eval(row['subject_position3d'])\n",
    "                obj_3dcoords = ast.literal_eval(row['object_position3d'])\n",
    "                subj_2dbbox = ast.literal_eval(row['subject_bbox2d'])\n",
    "                obj_2dbbox = ast.literal_eval(row['object_bbox2d'])\n",
    "                \n",
    "                if is_static(annotations.stem):\n",
    "                    \n",
    "                    #the below if else conditions are to process the occasional missing values in the coordinate/bbox dictionaries. \n",
    "                    #And also to bring static and dynamic inputs to same shape. Static images are repeated self.frames_per_vid times to emulate as if it were a static video (instead of an image)\n",
    "                    #if it is dynamic, we first None fill values with empty strings, then sample self.frames_per_vid images from the total 30 frames. \n",
    "                    \n",
    "                    if subj_3dcoords is not None and len(subj_3dcoords):\n",
    "#                         print(subj_3dcoords)\n",
    "                        s3d, s2dbbox = subj_3dcoords[0], subj_2dbbox[0] \n",
    "                    else: \n",
    "                        s3d, s2dbbox =  {\"x\":0, \"y\":0, \"z\":0},[0.,0.,0.,0.]\n",
    "                    \n",
    "                    if obj_3dcoords is not None and len(obj_3dcoords):\n",
    "                        o3d, o2dbbox = obj_3dcoords[0], obj_2dbbox[0]  \n",
    "                    else: \n",
    "                        o3d, o2dbbox = {\"x\":0, \"y\":0, \"z\":0},[0.,0.,0.,0.]\n",
    "                    \n",
    "                    coord = [s3d['x'] -o3d['x'],\n",
    "                             s3d['y'] -o3d['y'],\n",
    "                             *convert_stupd_bbox_to_spatialsense_bbox(s2dbbox),\n",
    "                             *convert_stupd_bbox_to_spatialsense_bbox(o2dbbox),\n",
    "                            ]*self.frames_per_vid\n",
    "                    \n",
    "                else:\n",
    "                    \n",
    "                    for i in range(len(subj_3dcoords)):\n",
    "                        if subj_3dcoords[i] is None: subj_3dcoords[i], subj_2dbbox[i] = {\"x\":0, \"y\":0, \"z\":0},[0.,0.,0.,0.]\n",
    "                        if obj_3dcoords[i] is None:  obj_3dcoords[i],  obj_2dbbox[i] = {\"x\":0, \"y\":0, \"z\":0},[0.,0.,0.,0.]\n",
    "                   \n",
    "                    coord = []\n",
    "                    idxs = self._sample(len(subj_3dcoords)) #uniformly sampled frame indices. \n",
    "                    for i in idxs: coord.extend([subj_3dcoords[i]['x'] -obj_3dcoords[i]['x'],\n",
    "                                                 subj_3dcoords[i]['y'] -obj_3dcoords[i]['y'],\n",
    "                                                 *convert_stupd_bbox_to_spatialsense_bbox(subj_2dbbox[i]),\n",
    "                                                 *convert_stupd_bbox_to_spatialsense_bbox(obj_2dbbox[i])])\n",
    "\n",
    "                self.coords.append(coord)\n",
    "                self.predicates.append(annotations.stem)\n",
    "                self.classes.add(annotations.stem)\n",
    "        \n",
    "        self.class2idx = {cat:i for i,cat in enumerate(self.classes)}\n",
    "        self.idx2class = {self.class2idx[cat]:cat for cat in self.class2idx}\n",
    "        self.c = len(self.classes)  \n",
    "    \n",
    "    def __len__(self): return len(self.predicates)\n",
    "    def __getitem__(self, i):\n",
    "        coord = self.apply_tfms(self.coords[i], self.x_tfms)\n",
    "        predicate = self.apply_tfms(self.predicates[i], self.y_tfms)\n",
    "        \n",
    "        return (torch.Tensor(coord).type(torch.cuda.FloatTensor), \n",
    "                torch.Tensor([predicate]).type(torch.cuda.LongTensor))\n",
    "\n",
    "    def apply_tfms(self, o, tfms):\n",
    "        for tfm in tfms: o = tfm(o)\n",
    "        return o\n",
    "    \n",
    "    \n",
    "    def _sample(self, num_frames=30):\n",
    "        assert num_frames>=self.frames_per_vid, 'not enough values to select from. Reinitialize with reduced frames_per_vid argument'\n",
    "        \n",
    "        idxs = [int((i*num_frames -1)/(self.frames_per_vid-1)) for i in range(self.frames_per_vid) ]\n",
    "        return idxs\n",
    "        \n",
    "    def _process_df(self, df):\n",
    "        f\"this function replace empty values in subject/object category and supercategory columns with an empty string ('') \" \n",
    "        cols = ['subject_category', 'subject_supercategory', 'object_category', 'object_supercategory']\n",
    "        \n",
    "        df[cols] = df[cols].fillna('')\n",
    "        return df"
   ]
  },
  {
   "cell_type": "code",
   "execution_count": 6,
   "id": "df78cbf6",
   "metadata": {},
   "outputs": [
    {
     "data": {
      "text/plain": [
       "149776"
      ]
     },
     "execution_count": 6,
     "metadata": {},
     "output_type": "execute_result"
    }
   ],
   "source": [
    "ds = stupd(frames_per_vid=3)\n",
    "len(ds)"
   ]
  },
  {
   "cell_type": "code",
   "execution_count": 7,
   "id": "37d5aff4",
   "metadata": {},
   "outputs": [
    {
     "data": {
      "text/plain": [
       "(119820, 29956)"
      ]
     },
     "execution_count": 7,
     "metadata": {},
     "output_type": "execute_result"
    }
   ],
   "source": [
    "train_split = 0.8\n",
    "train_ds, valid_ds = torch.utils.data.random_split(ds, [int(len(ds)*train_split), len(ds) - int(len(ds)*train_split)])\n",
    "train_ds.c, valid_ds.c = ds.c, ds.c\n",
    "\n",
    "len(train_ds), len(valid_ds)"
   ]
  },
  {
   "cell_type": "code",
   "execution_count": 8,
   "id": "5bc54f6e",
   "metadata": {},
   "outputs": [],
   "source": [
    "train_dl = DataLoader(train_ds, batch_size =512 , shuffle = True, drop_last = True)\n",
    "valid_dl = DataLoader(valid_ds, batch_size = 1024 , shuffle = True, drop_last = True)"
   ]
  },
  {
   "cell_type": "code",
   "execution_count": 9,
   "id": "9ba760d3",
   "metadata": {},
   "outputs": [
    {
     "data": {
      "text/plain": [
       "30"
      ]
     },
     "execution_count": 9,
     "metadata": {},
     "output_type": "execute_result"
    }
   ],
   "source": [
    "input_dim = len(next(iter(ds))[0]); input_dim"
   ]
  },
  {
   "cell_type": "markdown",
   "id": "3efa2f49",
   "metadata": {},
   "source": [
    "# Model"
   ]
  },
  {
   "cell_type": "code",
   "execution_count": 10,
   "id": "2d7a5f6e",
   "metadata": {},
   "outputs": [],
   "source": [
    "class LinearBlock(nn.Module):\n",
    "    def __init__(self, input_dim, output_dim, bn=True, relu=True):\n",
    "        super().__init__()\n",
    "        \n",
    "        self.bn = bn\n",
    "        self.relu = relu\n",
    "        \n",
    "        self.linear = nn.Linear(input_dim, output_dim)\n",
    "        self.batchnorm = nn.BatchNorm1d(output_dim)\n",
    "        self.ReLU = nn.ReLU()\n",
    "        \n",
    "    def forward(self, x):\n",
    "        x = self.linear(x)\n",
    "        if self.bn: x = self.batchnorm(x)\n",
    "        if self.relu: x = self.ReLU(x)\n",
    "        return x\n",
    "    \n",
    "    \n",
    "class SimpleCoordinateOnlyModel(nn.Module):\n",
    "    def __init__(self, coord_len, feature_dim, c):\n",
    "        super().__init__()\n",
    "\n",
    "        self.layers = nn.Sequential(*[LinearBlock(coord_len, feature_dim)] + [LinearBlock(feature_dim, feature_dim) for _ in range(4)] + [nn.Linear(feature_dim, c)])\n",
    "    \n",
    "    def forward(self, x):\n",
    "        return self.layers(x)"
   ]
  },
  {
   "cell_type": "code",
   "execution_count": 11,
   "id": "d72f6b30",
   "metadata": {},
   "outputs": [],
   "source": [
    "dls = DataLoaders(train_dl, valid_dl)\n",
    "model = SimpleCoordinateOnlyModel(input_dim,128, ds.c).cuda()\n",
    "learn = Learner(dls, model = model, loss_func = CrossEntropyLossFlat(), metrics = [accuracy,BalancedAccuracy()])"
   ]
  },
  {
   "cell_type": "code",
   "execution_count": 12,
   "id": "370699b7",
   "metadata": {},
   "outputs": [
    {
     "data": {
      "text/html": [
       "\n",
       "<style>\n",
       "    /* Turns off some styling */\n",
       "    progress {\n",
       "        /* gets rid of default border in Firefox and Opera. */\n",
       "        border: none;\n",
       "        /* Needs to be in here for Safari polyfill so background images work as expected. */\n",
       "        background-size: auto;\n",
       "    }\n",
       "    progress:not([value]), progress:not([value])::-webkit-progress-bar {\n",
       "        background: repeating-linear-gradient(45deg, #7e7e7e, #7e7e7e 10px, #5c5c5c 10px, #5c5c5c 20px);\n",
       "    }\n",
       "    .progress-bar-interrupted, .progress-bar-interrupted::-webkit-progress-bar {\n",
       "        background: #F44336;\n",
       "    }\n",
       "</style>\n"
      ],
      "text/plain": [
       "<IPython.core.display.HTML object>"
      ]
     },
     "metadata": {},
     "output_type": "display_data"
    },
    {
     "data": {
      "text/html": [],
      "text/plain": [
       "<IPython.core.display.HTML object>"
      ]
     },
     "metadata": {},
     "output_type": "display_data"
    },
    {
     "data": {
      "text/plain": [
       "SuggestedLRs(valley=0.00363078061491251)"
      ]
     },
     "execution_count": 12,
     "metadata": {},
     "output_type": "execute_result"
    },
    {
     "data": {
      "image/png": "[encoded data removed]",
      "text/plain": [
       "<Figure size 432x288 with 1 Axes>"
      ]
     },
     "metadata": {
      "needs_background": "light"
     },
     "output_type": "display_data"
    }
   ],
   "source": [
    "learn.lr_find()"
   ]
  },
  {
   "cell_type": "code",
   "execution_count": 13,
   "id": "12bc72e1",
   "metadata": {},
   "outputs": [
    {
     "data": {
      "text/html": [
       "\n",
       "<style>\n",
       "    /* Turns off some styling */\n",
       "    progress {\n",
       "        /* gets rid of default border in Firefox and Opera. */\n",
       "        border: none;\n",
       "        /* Needs to be in here for Safari polyfill so background images work as expected. */\n",
       "        background-size: auto;\n",
       "    }\n",
       "    progress:not([value]), progress:not([value])::-webkit-progress-bar {\n",
       "        background: repeating-linear-gradient(45deg, #7e7e7e, #7e7e7e 10px, #5c5c5c 10px, #5c5c5c 20px);\n",
       "    }\n",
       "    .progress-bar-interrupted, .progress-bar-interrupted::-webkit-progress-bar {\n",
       "        background: #F44336;\n",
       "    }\n",
       "</style>\n"
      ],
      "text/plain": [
       "<IPython.core.display.HTML object>"
      ]
     },
     "metadata": {},
     "output_type": "display_data"
    },
    {
     "data": {
      "text/html": [
       "<table border=\"1\" class=\"dataframe\">\n",
       "  <thead>\n",
       "    <tr style=\"text-align: left;\">\n",
       "      <th>epoch</th>\n",
       "      <th>train_loss</th>\n",
       "      <th>valid_loss</th>\n",
       "      <th>accuracy</th>\n",
       "      <th>balanced_accuracy_score</th>\n",
       "      <th>time</th>\n",
       "    </tr>\n",
       "  </thead>\n",
       "  <tbody>\n",
       "    <tr>\n",
       "      <td>0</td>\n",
       "      <td>0.790622</td>\n",
       "      <td>0.752236</td>\n",
       "      <td>0.757408</td>\n",
       "      <td>0.756617</td>\n",
       "      <td>00:07</td>\n",
       "    </tr>\n",
       "    <tr>\n",
       "      <td>1</td>\n",
       "      <td>0.460819</td>\n",
       "      <td>0.661351</td>\n",
       "      <td>0.782429</td>\n",
       "      <td>0.781734</td>\n",
       "      <td>00:07</td>\n",
       "    </tr>\n",
       "    <tr>\n",
       "      <td>2</td>\n",
       "      <td>0.384796</td>\n",
       "      <td>0.619111</td>\n",
       "      <td>0.791891</td>\n",
       "      <td>0.790594</td>\n",
       "      <td>00:07</td>\n",
       "    </tr>\n",
       "    <tr>\n",
       "      <td>3</td>\n",
       "      <td>0.325182</td>\n",
       "      <td>0.357835</td>\n",
       "      <td>0.875741</td>\n",
       "      <td>0.874782</td>\n",
       "      <td>00:07</td>\n",
       "    </tr>\n",
       "    <tr>\n",
       "      <td>4</td>\n",
       "      <td>0.283338</td>\n",
       "      <td>0.411854</td>\n",
       "      <td>0.860284</td>\n",
       "      <td>0.859156</td>\n",
       "      <td>00:07</td>\n",
       "    </tr>\n",
       "    <tr>\n",
       "      <td>5</td>\n",
       "      <td>0.242748</td>\n",
       "      <td>0.367774</td>\n",
       "      <td>0.868198</td>\n",
       "      <td>0.867322</td>\n",
       "      <td>00:07</td>\n",
       "    </tr>\n",
       "    <tr>\n",
       "      <td>6</td>\n",
       "      <td>0.208976</td>\n",
       "      <td>0.258228</td>\n",
       "      <td>0.909314</td>\n",
       "      <td>0.908617</td>\n",
       "      <td>00:07</td>\n",
       "    </tr>\n",
       "    <tr>\n",
       "      <td>7</td>\n",
       "      <td>0.183220</td>\n",
       "      <td>0.199565</td>\n",
       "      <td>0.929452</td>\n",
       "      <td>0.928817</td>\n",
       "      <td>00:07</td>\n",
       "    </tr>\n",
       "    <tr>\n",
       "      <td>8</td>\n",
       "      <td>0.159989</td>\n",
       "      <td>0.179600</td>\n",
       "      <td>0.936658</td>\n",
       "      <td>0.936025</td>\n",
       "      <td>00:07</td>\n",
       "    </tr>\n",
       "    <tr>\n",
       "      <td>9</td>\n",
       "      <td>0.151008</td>\n",
       "      <td>0.176135</td>\n",
       "      <td>0.938578</td>\n",
       "      <td>0.938043</td>\n",
       "      <td>00:07</td>\n",
       "    </tr>\n",
       "  </tbody>\n",
       "</table>"
      ],
      "text/plain": [
       "<IPython.core.display.HTML object>"
      ]
     },
     "metadata": {},
     "output_type": "display_data"
    }
   ],
   "source": [
    "learn.fit_one_cycle(10, 5e-3)"
   ]
  },
  {
   "cell_type": "code",
   "execution_count": 14,
   "id": "1d9e7abd",
   "metadata": {},
   "outputs": [
    {
     "data": {
      "image/png": "[encoded data removed]",
      "text/plain": [
       "<Figure size 1800x360 with 1 Axes>"
      ]
     },
     "metadata": {
      "needs_background": "light"
     },
     "output_type": "display_data"
    },
    {
     "name": "stdout",
     "output_type": "stream",
     "text": [
      "{'along': 0.9852216748768473, 'inside': 0.9723593287265548, 'by': 0.9879638916750251, 'out_of': 0.9295634920634921, 'from': 0.8728991596638656, 'in_front_of': 0.6917599186164801, 'between': 0.8793619142572283, 'into_crash': 0.9034552845528455, 'against_leaning': 0.9980314960629921, 'around': 0.9969604863221885, 'along_position': 0.9423868312757202, 'towards': 0.9583756345177665, 'with': 0.9633123689727463, 'above': 0.9697560975609756, 'below': 0.9725609756097561, 'into': 0.9552845528455285, 'off': 1.0, 'over': 0.9990253411306043, 'against': 0.9624608967674662, 'onto': 0.9949799196787149, 'behind': 0.7333333333333333, 'beside': 0.900709219858156, 'outside': 0.9406952965235174, 'all_over': 1.0, 'down': 1.0, 'around_static': 0.844400396432111, 'up': 1.0, 'among': 0.8699029126213592, 'through': 0.976878612716763, 'on': 0.9397715472481828}\n"
     ]
    }
   ],
   "source": [
    "corrects = [0]*ds.c\n",
    "total = [0]*ds.c\n",
    "\n",
    "accs = {}\n",
    "for a,b in valid_dl:\n",
    "#     res = torch.argmax(model(a,b))\n",
    "    res = torch.argmax(model(a), dim = 1, keepdim=False)\n",
    "    \n",
    "    for gt,r in zip(b, res): \n",
    "        total[gt]+=1\n",
    "        corrects[gt]+=(int(gt==r))\n",
    "\n",
    "for i in range(len(corrects)):\n",
    "    accs[ds.idx2class[i]]=corrects[i]/total[i]\n",
    "\n",
    "fig = plt.figure(figsize = (25, 5))\n",
    " \n",
    "# creating the bar plot\n",
    "plt.bar(accs.keys(), accs.values(),\n",
    "        width = 0.4, color='pink')\n",
    " \n",
    "plt.xlabel(\"relation\")\n",
    "plt.xticks(rotation = 90)\n",
    "plt.ylabel(\"accuracy\")\n",
    "plt.title(\"language only model accuracy\")\n",
    "\n",
    "plt.tick_params(axis=\"y\",direction=\"in\", pad=-22)\n",
    "plt.tick_params(axis=\"x\",direction=\"in\", pad=-100)\n",
    "plt.show()\n",
    "\n",
    "\n",
    "print(accs)"
   ]
  },
  {
   "cell_type": "code",
   "execution_count": 15,
   "id": "024ac44e",
   "metadata": {},
   "outputs": [
    {
     "data": {
      "image/png": "[encoded data removed]",
      "text/plain": [
       "<Figure size 720x360 with 1 Axes>"
      ]
     },
     "metadata": {
      "needs_background": "light"
     },
     "output_type": "display_data"
    },
    {
     "name": "stdout",
     "output_type": "stream",
     "text": [
      "static_accuracy 0.9681254743232988\n",
      "dynamic_accuracy 0.9049265341400173\n",
      "0.9344193728922154\n"
     ]
    }
   ],
   "source": [
    "corrects = [0]*2\n",
    "total = [0]*2\n",
    "\n",
    "accs = [0]*2\n",
    "for a,b in valid_dl:\n",
    "#     res = torch.argmax(model(a,b))\n",
    "    res = torch.argmax(model(a), dim = 1, keepdim=False)\n",
    "    \n",
    "    for gt,r in zip(b, res): \n",
    "        total[is_static(ds.idx2class[gt.item()])]+=1\n",
    "        corrects[is_static(ds.idx2class[gt.item()])]+=(int(gt==r))\n",
    "\n",
    "for i in range(len(corrects)):\n",
    "    accs[i]=corrects[i]/total[i]\n",
    "\n",
    "fig = plt.figure(figsize = (10, 5))\n",
    " \n",
    "# creating the bar plot\n",
    "plt.bar(['static', 'dynamic'], accs,\n",
    "        width = 0.4)\n",
    " \n",
    "plt.xlabel(\"relation\")\n",
    "plt.xticks(rotation = 90)\n",
    "plt.ylabel(\"accuracy\")\n",
    "plt.title(\"language only model accuracy\")\n",
    "\n",
    "plt.tick_params(axis=\"y\",direction=\"in\", pad=-22)\n",
    "plt.tick_params(axis=\"x\",direction=\"in\", pad=-100)\n",
    "plt.show()\n",
    "\n",
    "\n",
    "print('static_accuracy', accs[0])\n",
    "print('dynamic_accuracy', accs[1])\n",
    "\n",
    "print(accs[1]*16/30 + accs[0]*14/30)"
   ]
  },
  {
   "cell_type": "code",
   "execution_count": null,
   "id": "757318b1",
   "metadata": {},
   "outputs": [],
   "source": []
  }
 ],
 "metadata": {
  "kernelspec": {
   "display_name": "Python 3",
   "language": "python",
   "name": "python3"
  },
  "language_info": {
   "codemirror_mode": {
    "name": "ipython",
    "version": 3
   },
   "file_extension": ".py",
   "mimetype": "text/x-python",
   "name": "python",
   "nbconvert_exporter": "python",
   "pygments_lexer": "ipython3",
   "version": "3.9.16"
  }
 },
 "nbformat": 4,
 "nbformat_minor": 5
}
