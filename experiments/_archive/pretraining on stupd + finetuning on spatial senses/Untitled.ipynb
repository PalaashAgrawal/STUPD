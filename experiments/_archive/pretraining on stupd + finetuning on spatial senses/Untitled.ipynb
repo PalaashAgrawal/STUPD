{
 "cells": [
  {
   "cell_type": "code",
   "execution_count": null,
   "id": "0d55f479",
   "metadata": {},
   "outputs": [
    {
     "name": "stdout",
     "output_type": "stream",
     "text": [
      "Downloading and preparing dataset visual_genome/relationships_v1.0.0 to /home/agrawalp2/.cache/huggingface/datasets/visual_genome/relationships_v1.0.0/1.0.0/6a4c7ae0afc696f22ba83bf725357bff6d74714cf3d24d4f07f5aed78d56b626...\n"
     ]
    },
    {
     "name": "stderr",
     "output_type": "stream",
     "text": [
      "Latest image metadata version is 1.2.0. Trying to generate a dataset of version: 1.0.0. Please double check that image data are unchanged between the two versions.\n",
      "Latest image metadata version is 1.2.0. Trying to generate a dataset of version: 1.0.0. Please double check that image data are unchanged between the two versions.\n"
     ]
    },
    {
     "data": {
      "application/vnd.jupyter.widget-view+json": {
       "model_id": "c2737063b13443d083c95b6f93df3500",
       "version_major": 2,
       "version_minor": 0
      },
      "text/plain": [
       "Downloading data files:   0%|          | 0/2 [00:00<?, ?it/s]"
      ]
     },
     "metadata": {},
     "output_type": "display_data"
    },
    {
     "data": {
      "application/vnd.jupyter.widget-view+json": {
       "model_id": "9ac5beb38aa645bca44db7ed23cb63d6",
       "version_major": 2,
       "version_minor": 0
      },
      "text/plain": [
       "Downloading data:   0%|          | 0.00/9.73G [00:00<?, ?B/s]"
      ]
     },
     "metadata": {},
     "output_type": "display_data"
    }
   ],
   "source": [
    "from datasets import load_dataset\n",
    "load_dataset(\"visual_genome\", \"relationships_v1.0.0\")"
   ]
  },
  {
   "cell_type": "code",
   "execution_count": null,
   "id": "34ef4abd",
   "metadata": {},
   "outputs": [],
   "source": []
  }
 ],
 "metadata": {
  "kernelspec": {
   "display_name": "Python 3",
   "language": "python",
   "name": "python3"
  },
  "language_info": {
   "codemirror_mode": {
    "name": "ipython",
    "version": 3
   },
   "file_extension": ".py",
   "mimetype": "text/x-python",
   "name": "python",
   "nbconvert_exporter": "python",
   "pygments_lexer": "ipython3",
   "version": "3.9.16"
  }
 },
 "nbformat": 4,
 "nbformat_minor": 5
}
